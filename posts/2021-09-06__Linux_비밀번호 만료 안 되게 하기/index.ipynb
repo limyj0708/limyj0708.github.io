{
 "cells": [
  {
   "cell_type": "markdown",
   "id": "81f8d7d5-6de9-4961-b3ac-c35fafdb5135",
   "metadata": {},
   "source": [
    "---\n",
    "title: Linux_비밀번호 만료 안 되게 하기\n",
    "toc: true\n",
    "toc-depth: 3\n",
    "toc-expand: true\n",
    "number-sections: true\n",
    "date: 2021-09-06\n",
    "categories: [Linux]\n",
    "author: limyj0708\n",
    "comments:\n",
    "  giscus: \n",
    "    repo: limyj0708/blog\n",
    "---"
   ]
  },
  {
   "cell_type": "markdown",
   "id": "e1bd30a5-1cda-407e-84c1-703c4d9d1036",
   "metadata": {},
   "source": [
    "## 1. 빠른 결론\n",
    "\n",
    "```Shell\n",
    "chage -E -1 -M 99999 계정명\n",
    "```\n",
    "\n",
    "## 2. 각 명령어 구성품의 의미\n",
    "\n",
    "* chage : 사용자의 패스워드 정보를 관리하는 명령어\n",
    "  * -E : 계정의 만료일 설정\n",
    "  * -l : 지정한 계정의 정보를 보여 줌\n",
    "  * -M : 패스워드 최종 변경일로부터 패스워드 변경 없이 사용할 수 있는 최대 일수를 설정\n",
    "* -E에는 -1을 할당 : 영원히 계정을 만료시키지 않음\n",
    "* -M에는 99999를 할당 : 패스워드 변경 이후 99999일 동안 변경 없이 사용 가능\n",
    "\n",
    "* 위의 명령어 입력 후, `sudo chage -l 계정명` 으로 계정/패스워드 정보를 확인해 보면 아래와 같다.\n",
    "\n",
    "  ```shell\n",
    "  Last password change\t\t\t\t: Aug 23, 2021\n",
    "  Password expires\t\t\t\t\t: never\n",
    "  Password inactive\t\t\t\t\t: never\n",
    "  Account expires\t\t\t\t\t\t: never\n",
    "  Minimum number of days between password change\t\t: 5\n",
    "  Maximum number of days between password change\t\t: 99999\n",
    "  Number of days of warning before password expires\t: 7\n",
    "  ```\n",
    "\n",
    "## 3. Reference\n",
    "\n",
    "- [리눅스 패스워드 만료 안되게 하기 - 제타위키 (zetawiki.com)](https://zetawiki.com/wiki/리눅스_패스워드_만료_안되게_하기)\n",
    "- [[Linux\\] chage 명령어 (사용자 패스워드 만기 정보 관리) (tistory.com)](https://tragramming.tistory.com/87)"
   ]
  }
 ],
 "metadata": {
  "kernelspec": {
   "display_name": "Python 3 (ipykernel)",
   "language": "python",
   "name": "python3"
  },
  "language_info": {
   "codemirror_mode": {
    "name": "ipython",
    "version": 3
   },
   "file_extension": ".py",
   "mimetype": "text/x-python",
   "name": "python",
   "nbconvert_exporter": "python",
   "pygments_lexer": "ipython3",
   "version": "3.11.2"
  },
  "widgets": {
   "application/vnd.jupyter.widget-state+json": {
    "state": {},
    "version_major": 2,
    "version_minor": 0
   }
  }
 },
 "nbformat": 4,
 "nbformat_minor": 5
}
