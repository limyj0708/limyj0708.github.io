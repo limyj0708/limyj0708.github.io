{
 "cells": [
  {
   "cell_type": "markdown",
   "id": "467bff37-bced-4632-bf28-e995f9bc7b36",
   "metadata": {
    "tags": []
   },
   "source": [
    "---\n",
    "jupyter: python3\n",
    "toc: true\n",
    "toc-depth: 3\n",
    "toc-expand: true\n",
    "number-sections: true\n",
    "title: Pandas_08_파일 입출력\n",
    "date: 2021-11-05 00:08\n",
    "categories: pandas\n",
    "author: limyj0708\n",
    "comments:\n",
    "  giscus:\n",
    "    repo: limyj0708/blog\n",
    "format:\n",
    "    html:\n",
    "        page-layout: full\n",
    "---"
   ]
  },
  {
   "cell_type": "code",
   "execution_count": 13,
   "id": "d3dd94f9-d5df-4ca1-81fd-8a6a736555d4",
   "metadata": {
    "tags": []
   },
   "outputs": [],
   "source": [
    "import pandas as pd\n",
    "import numpy as np\n",
    "import copy\n",
    "from IPython.display import display_html, display"
   ]
  },
  {
   "cell_type": "code",
   "execution_count": 14,
   "id": "4281b5ba-d3c0-4063-a0a1-775dfa6ff742",
   "metadata": {
    "tags": []
   },
   "outputs": [],
   "source": [
    "def display_multiple_dfs(dfs:list, styles, margin=10):\n",
    "    display_target = ''\n",
    "    for each_df in dfs:\n",
    "        each_df_html = each_df[0].style.set_caption(f'<b>{each_df[1]}</b>').set_table_styles(styles).set_table_attributes(f\"style='display:inline;margin:{margin}px'\")._repr_html_()\n",
    "        display_target += each_df_html\n",
    "    display_html(display_target, raw = True)"
   ]
  },
  {
   "cell_type": "code",
   "execution_count": 15,
   "id": "bd76eaab-5a90-4c06-af6d-e77b741d11ed",
   "metadata": {
    "tags": []
   },
   "outputs": [],
   "source": [
    "styles = [\n",
    "    {\"selector\" : \"caption\", \"props\" : \"text-align:center; font-size:16px\"}\n",
    "]"
   ]
  },
  {
   "cell_type": "markdown",
   "id": "9d76caa5-df06-4b2f-9cfd-f227816e41e0",
   "metadata": {
    "tags": []
   },
   "source": [
    "# read_excel"
   ]
  },
  {
   "cell_type": "code",
   "execution_count": 16,
   "id": "2ac0b7e0-82a2-44fc-befa-7f30f07a5df0",
   "metadata": {
    "tags": []
   },
   "outputs": [
    {
     "ename": "FileNotFoundError",
     "evalue": "[Errno 2] No such file or directory: 'C:\\\\Users\\\\Documents\\\\data\\\\string\\\\string_quest.xlsx'",
     "output_type": "error",
     "traceback": [
      "\u001b[0;31m---------------------------------------------------------------------------\u001b[0m",
      "\u001b[0;31mFileNotFoundError\u001b[0m                         Traceback (most recent call last)",
      "\u001b[1;32m/Users/limyj0708/Documents/personal/blog/blog/posts/2021-11-05_pandas_cheatsheet_08_파일 입출력.ipynb Cell 6\u001b[0m line \u001b[0;36m1\n\u001b[0;32m----> <a href='vscode-notebook-cell:/Users/limyj0708/Documents/personal/blog/blog/posts/2021-11-05_pandas_cheatsheet_08_%ED%8C%8C%EC%9D%BC%20%EC%9E%85%EC%B6%9C%EB%A0%A5.ipynb#W5sZmlsZQ%3D%3D?line=0'>1</a>\u001b[0m string_quest \u001b[39m=\u001b[39m pd\u001b[39m.\u001b[39;49mread_excel(\u001b[39mr\u001b[39;49m\u001b[39m\"\u001b[39;49m\u001b[39mC:\u001b[39;49m\u001b[39m\\\u001b[39;49m\u001b[39mUsers\u001b[39;49m\u001b[39m\\\u001b[39;49m\u001b[39mDocuments\u001b[39;49m\u001b[39m\\\u001b[39;49m\u001b[39mdata\u001b[39;49m\u001b[39m\\\u001b[39;49m\u001b[39mstring\u001b[39;49m\u001b[39m\\\u001b[39;49m\u001b[39mstring_quest.xlsx\u001b[39;49m\u001b[39m\"\u001b[39;49m,\n\u001b[1;32m      <a href='vscode-notebook-cell:/Users/limyj0708/Documents/personal/blog/blog/posts/2021-11-05_pandas_cheatsheet_08_%ED%8C%8C%EC%9D%BC%20%EC%9E%85%EC%B6%9C%EB%A0%A5.ipynb#W5sZmlsZQ%3D%3D?line=1'>2</a>\u001b[0m                              header\u001b[39m=\u001b[39;49m\u001b[39m6\u001b[39;49m, usecols\u001b[39m=\u001b[39;49m\u001b[39m\"\u001b[39;49m\u001b[39mH,I\u001b[39;49m\u001b[39m\"\u001b[39;49m, sheet_name \u001b[39m=\u001b[39;49m \u001b[39m\"\u001b[39;49m\u001b[39mstring_quest\u001b[39;49m\u001b[39m\"\u001b[39;49m, engine\u001b[39m=\u001b[39;49m\u001b[39m\"\u001b[39;49m\u001b[39mopenpyxl\u001b[39;49m\u001b[39m\"\u001b[39;49m)\n",
      "File \u001b[0;32m~/.pyenv/versions/3.11.2/lib/python3.11/site-packages/pandas/util/_decorators.py:211\u001b[0m, in \u001b[0;36mdeprecate_kwarg.<locals>._deprecate_kwarg.<locals>.wrapper\u001b[0;34m(*args, **kwargs)\u001b[0m\n\u001b[1;32m    209\u001b[0m     \u001b[39melse\u001b[39;00m:\n\u001b[1;32m    210\u001b[0m         kwargs[new_arg_name] \u001b[39m=\u001b[39m new_arg_value\n\u001b[0;32m--> 211\u001b[0m \u001b[39mreturn\u001b[39;00m func(\u001b[39m*\u001b[39;49margs, \u001b[39m*\u001b[39;49m\u001b[39m*\u001b[39;49mkwargs)\n",
      "File \u001b[0;32m~/.pyenv/versions/3.11.2/lib/python3.11/site-packages/pandas/util/_decorators.py:331\u001b[0m, in \u001b[0;36mdeprecate_nonkeyword_arguments.<locals>.decorate.<locals>.wrapper\u001b[0;34m(*args, **kwargs)\u001b[0m\n\u001b[1;32m    325\u001b[0m \u001b[39mif\u001b[39;00m \u001b[39mlen\u001b[39m(args) \u001b[39m>\u001b[39m num_allow_args:\n\u001b[1;32m    326\u001b[0m     warnings\u001b[39m.\u001b[39mwarn(\n\u001b[1;32m    327\u001b[0m         msg\u001b[39m.\u001b[39mformat(arguments\u001b[39m=\u001b[39m_format_argument_list(allow_args)),\n\u001b[1;32m    328\u001b[0m         \u001b[39mFutureWarning\u001b[39;00m,\n\u001b[1;32m    329\u001b[0m         stacklevel\u001b[39m=\u001b[39mfind_stack_level(),\n\u001b[1;32m    330\u001b[0m     )\n\u001b[0;32m--> 331\u001b[0m \u001b[39mreturn\u001b[39;00m func(\u001b[39m*\u001b[39;49margs, \u001b[39m*\u001b[39;49m\u001b[39m*\u001b[39;49mkwargs)\n",
      "File \u001b[0;32m~/.pyenv/versions/3.11.2/lib/python3.11/site-packages/pandas/io/excel/_base.py:482\u001b[0m, in \u001b[0;36mread_excel\u001b[0;34m(io, sheet_name, header, names, index_col, usecols, squeeze, dtype, engine, converters, true_values, false_values, skiprows, nrows, na_values, keep_default_na, na_filter, verbose, parse_dates, date_parser, thousands, decimal, comment, skipfooter, convert_float, mangle_dupe_cols, storage_options)\u001b[0m\n\u001b[1;32m    480\u001b[0m \u001b[39mif\u001b[39;00m \u001b[39mnot\u001b[39;00m \u001b[39misinstance\u001b[39m(io, ExcelFile):\n\u001b[1;32m    481\u001b[0m     should_close \u001b[39m=\u001b[39m \u001b[39mTrue\u001b[39;00m\n\u001b[0;32m--> 482\u001b[0m     io \u001b[39m=\u001b[39m ExcelFile(io, storage_options\u001b[39m=\u001b[39;49mstorage_options, engine\u001b[39m=\u001b[39;49mengine)\n\u001b[1;32m    483\u001b[0m \u001b[39melif\u001b[39;00m engine \u001b[39mand\u001b[39;00m engine \u001b[39m!=\u001b[39m io\u001b[39m.\u001b[39mengine:\n\u001b[1;32m    484\u001b[0m     \u001b[39mraise\u001b[39;00m \u001b[39mValueError\u001b[39;00m(\n\u001b[1;32m    485\u001b[0m         \u001b[39m\"\u001b[39m\u001b[39mEngine should not be specified when passing \u001b[39m\u001b[39m\"\u001b[39m\n\u001b[1;32m    486\u001b[0m         \u001b[39m\"\u001b[39m\u001b[39man ExcelFile - ExcelFile already has the engine set\u001b[39m\u001b[39m\"\u001b[39m\n\u001b[1;32m    487\u001b[0m     )\n",
      "File \u001b[0;32m~/.pyenv/versions/3.11.2/lib/python3.11/site-packages/pandas/io/excel/_base.py:1695\u001b[0m, in \u001b[0;36mExcelFile.__init__\u001b[0;34m(self, path_or_buffer, engine, storage_options)\u001b[0m\n\u001b[1;32m   1692\u001b[0m \u001b[39mself\u001b[39m\u001b[39m.\u001b[39mengine \u001b[39m=\u001b[39m engine\n\u001b[1;32m   1693\u001b[0m \u001b[39mself\u001b[39m\u001b[39m.\u001b[39mstorage_options \u001b[39m=\u001b[39m storage_options\n\u001b[0;32m-> 1695\u001b[0m \u001b[39mself\u001b[39m\u001b[39m.\u001b[39m_reader \u001b[39m=\u001b[39m \u001b[39mself\u001b[39;49m\u001b[39m.\u001b[39;49m_engines[engine](\u001b[39mself\u001b[39;49m\u001b[39m.\u001b[39;49m_io, storage_options\u001b[39m=\u001b[39;49mstorage_options)\n",
      "File \u001b[0;32m~/.pyenv/versions/3.11.2/lib/python3.11/site-packages/pandas/io/excel/_openpyxl.py:557\u001b[0m, in \u001b[0;36mOpenpyxlReader.__init__\u001b[0;34m(self, filepath_or_buffer, storage_options)\u001b[0m\n\u001b[1;32m    547\u001b[0m \u001b[39m\u001b[39m\u001b[39m\"\"\"\u001b[39;00m\n\u001b[1;32m    548\u001b[0m \u001b[39mReader using openpyxl engine.\u001b[39;00m\n\u001b[1;32m    549\u001b[0m \n\u001b[0;32m   (...)\u001b[0m\n\u001b[1;32m    554\u001b[0m \u001b[39m{storage_options}\u001b[39;00m\n\u001b[1;32m    555\u001b[0m \u001b[39m\"\"\"\u001b[39;00m\n\u001b[1;32m    556\u001b[0m import_optional_dependency(\u001b[39m\"\u001b[39m\u001b[39mopenpyxl\u001b[39m\u001b[39m\"\u001b[39m)\n\u001b[0;32m--> 557\u001b[0m \u001b[39msuper\u001b[39;49m()\u001b[39m.\u001b[39;49m\u001b[39m__init__\u001b[39;49m(filepath_or_buffer, storage_options\u001b[39m=\u001b[39;49mstorage_options)\n",
      "File \u001b[0;32m~/.pyenv/versions/3.11.2/lib/python3.11/site-packages/pandas/io/excel/_base.py:535\u001b[0m, in \u001b[0;36mBaseExcelReader.__init__\u001b[0;34m(self, filepath_or_buffer, storage_options)\u001b[0m\n\u001b[1;32m    531\u001b[0m \u001b[39mself\u001b[39m\u001b[39m.\u001b[39mhandles \u001b[39m=\u001b[39m IOHandles(\n\u001b[1;32m    532\u001b[0m     handle\u001b[39m=\u001b[39mfilepath_or_buffer, compression\u001b[39m=\u001b[39m{\u001b[39m\"\u001b[39m\u001b[39mmethod\u001b[39m\u001b[39m\"\u001b[39m: \u001b[39mNone\u001b[39;00m}\n\u001b[1;32m    533\u001b[0m )\n\u001b[1;32m    534\u001b[0m \u001b[39mif\u001b[39;00m \u001b[39mnot\u001b[39;00m \u001b[39misinstance\u001b[39m(filepath_or_buffer, (ExcelFile, \u001b[39mself\u001b[39m\u001b[39m.\u001b[39m_workbook_class)):\n\u001b[0;32m--> 535\u001b[0m     \u001b[39mself\u001b[39m\u001b[39m.\u001b[39mhandles \u001b[39m=\u001b[39m get_handle(\n\u001b[1;32m    536\u001b[0m         filepath_or_buffer, \u001b[39m\"\u001b[39;49m\u001b[39mrb\u001b[39;49m\u001b[39m\"\u001b[39;49m, storage_options\u001b[39m=\u001b[39;49mstorage_options, is_text\u001b[39m=\u001b[39;49m\u001b[39mFalse\u001b[39;49;00m\n\u001b[1;32m    537\u001b[0m     )\n\u001b[1;32m    539\u001b[0m \u001b[39mif\u001b[39;00m \u001b[39misinstance\u001b[39m(\u001b[39mself\u001b[39m\u001b[39m.\u001b[39mhandles\u001b[39m.\u001b[39mhandle, \u001b[39mself\u001b[39m\u001b[39m.\u001b[39m_workbook_class):\n\u001b[1;32m    540\u001b[0m     \u001b[39mself\u001b[39m\u001b[39m.\u001b[39mbook \u001b[39m=\u001b[39m \u001b[39mself\u001b[39m\u001b[39m.\u001b[39mhandles\u001b[39m.\u001b[39mhandle\n",
      "File \u001b[0;32m~/.pyenv/versions/3.11.2/lib/python3.11/site-packages/pandas/io/common.py:865\u001b[0m, in \u001b[0;36mget_handle\u001b[0;34m(path_or_buf, mode, encoding, compression, memory_map, is_text, errors, storage_options)\u001b[0m\n\u001b[1;32m    856\u001b[0m         handle \u001b[39m=\u001b[39m \u001b[39mopen\u001b[39m(\n\u001b[1;32m    857\u001b[0m             handle,\n\u001b[1;32m    858\u001b[0m             ioargs\u001b[39m.\u001b[39mmode,\n\u001b[0;32m   (...)\u001b[0m\n\u001b[1;32m    861\u001b[0m             newline\u001b[39m=\u001b[39m\u001b[39m\"\u001b[39m\u001b[39m\"\u001b[39m,\n\u001b[1;32m    862\u001b[0m         )\n\u001b[1;32m    863\u001b[0m     \u001b[39melse\u001b[39;00m:\n\u001b[1;32m    864\u001b[0m         \u001b[39m# Binary mode\u001b[39;00m\n\u001b[0;32m--> 865\u001b[0m         handle \u001b[39m=\u001b[39m \u001b[39mopen\u001b[39;49m(handle, ioargs\u001b[39m.\u001b[39;49mmode)\n\u001b[1;32m    866\u001b[0m     handles\u001b[39m.\u001b[39mappend(handle)\n\u001b[1;32m    868\u001b[0m \u001b[39m# Convert BytesIO or file objects passed with an encoding\u001b[39;00m\n",
      "\u001b[0;31mFileNotFoundError\u001b[0m: [Errno 2] No such file or directory: 'C:\\\\Users\\\\Documents\\\\data\\\\string\\\\string_quest.xlsx'"
     ]
    }
   ],
   "source": [
    "string_quest = pd.read_excel(r\"C:\\Users\\Documents\\data\\string\\string_quest.xlsx\",\n",
    "                             header=6, usecols=\"H,I\", sheet_name = \"string_quest\", engine=\"openpyxl\")"
   ]
  },
  {
   "cell_type": "markdown",
   "id": "3d892f44-e960-4107-adca-ca3112de29a0",
   "metadata": {},
   "source": [
    "- header : 몇 번째 row를 header로 할까?\n",
    "- usercols : 어떤 열을 가져올까?\n",
    "- sheet_name : 어떤 시트를 가져올까?\n",
    "- engine : openpyxl을 사용하여야 xlsx 파일의 불러오기가 가능"
   ]
  },
  {
   "cell_type": "markdown",
   "id": "46ca1021-260d-47ea-b127-a176d0495d02",
   "metadata": {},
   "source": [
    "# to_excel"
   ]
  },
  {
   "cell_type": "markdown",
   "id": "726f8766-17d5-4470-b1d9-087c64d89e97",
   "metadata": {},
   "source": [
    "- 데이터프레임을 잘 구성했다면, 기본적으로는 아래와 같이 특별한 argument 없이 사용해도 별 문제는 없다."
   ]
  },
  {
   "cell_type": "code",
   "execution_count": null,
   "id": "bafbe348-38f7-414d-af86-03c32ddfe83c",
   "metadata": {},
   "outputs": [],
   "source": [
    "for each_key in dict_account_id.keys():\n",
    "    target_dataframe = pd.DataFrame.from_dict(dict_account_id[each_key])\n",
    "    target_dataframe.to_excel(f\"{each_key}_성장재료_출처.xlsx\")"
   ]
  },
  {
   "cell_type": "markdown",
   "id": "a8a77007-1fab-4712-94b8-1e9880c90e8a",
   "metadata": {},
   "source": [
    "- 내용 추가 모드 (append)를 사용하고 싶다면, 아래와 같이 할 수 있다."
   ]
  },
  {
   "cell_type": "code",
   "execution_count": null,
   "id": "886b110f-2d34-48fe-98fd-d6221adcde31",
   "metadata": {},
   "outputs": [],
   "source": [
    "with pd.ExcelWriter('output.xlsx', mode='a') as writer: # mode='a'로 append 설정\n",
    "    df.to_excel(writer, sheet_name='Sheet_name_3') #sheet 이름도 지정함"
   ]
  },
  {
   "cell_type": "markdown",
   "id": "ff2dc081-c7c2-49be-ad55-50fc61e523cc",
   "metadata": {},
   "source": [
    "- 추가 내용 : https://pandas.pydata.org/docs/reference/api/pandas.DataFrame.to_excel.html"
   ]
  },
  {
   "cell_type": "markdown",
   "id": "ca7f0b78-e217-4e83-bfe1-a7d84bb9c6d2",
   "metadata": {
    "tags": []
   },
   "source": [
    "# read_csv"
   ]
  },
  {
   "cell_type": "code",
   "execution_count": null,
   "id": "d721bfa7-0d88-4cfb-937e-1bc75f6553e3",
   "metadata": {},
   "outputs": [],
   "source": [
    "target_df = pd.read_csv('data.csv')"
   ]
  },
  {
   "cell_type": "markdown",
   "id": "42286e8f-0811-4d11-8c7a-4f835a5a7a1d",
   "metadata": {},
   "source": [
    "- sep : delimeter. 기본값은 쉼표(,)이다.\n",
    "- header : 몇 번째 row를 header로 할까?\n",
    "- usercols : 어떤 열을 가져올까?\n",
    "- chunksize : 파일이 너무 클 경우, 한 번에 불러올 행 수를 지정 가능. 이후 iterable하게 다음 size를 불러올 수 있다. 아래와 같이 사용.\n",
    "```Python\n",
    "chunksize = 10 ** 6\n",
    "with pd.read_csv(filename, chunksize=chunksize) as reader:\n",
    "    for chunk in reader:\n",
    "        process(chunk)\n",
    "```"
   ]
  },
  {
   "cell_type": "markdown",
   "id": "8b000f54-0cc1-4cca-8778-60444b1515c6",
   "metadata": {},
   "source": [
    "- 추가 내용 : https://pandas.pydata.org/docs/reference/api/pandas.read_csv.html"
   ]
  },
  {
   "cell_type": "markdown",
   "id": "5600d527-9fef-4f17-b879-ca889ca8d6f1",
   "metadata": {
    "tags": []
   },
   "source": [
    "# to_csv"
   ]
  },
  {
   "cell_type": "code",
   "execution_count": null,
   "id": "ee634a06-7a9c-4e6d-a2ae-1cb35e7b3523",
   "metadata": {},
   "outputs": [],
   "source": [
    "target_df = pd.to_csv('data.csv')"
   ]
  },
  {
   "cell_type": "markdown",
   "id": "483a5a6a-e497-4123-9e25-526f66d24c22",
   "metadata": {},
   "source": [
    "- sep : delimeter. 기본값은 쉼표(,)이다.\n",
    "- columns : 쓰기에 사용할 컬럼 이름 리스트.\n",
    "- header : bool or list of str, default True\n",
    "    - 문자열 리스트가 주어지면, 각 컬럼에 대한 alias로 취급된다."
   ]
  },
  {
   "cell_type": "markdown",
   "id": "2cec0129-3ecb-44cb-83d6-ee8719932677",
   "metadata": {},
   "source": [
    "- 추가 내용 : https://pandas.pydata.org/docs/reference/api/pandas.DataFrame.to_csv.html"
   ]
  },
  {
   "cell_type": "markdown",
   "id": "4d317446-bc85-414e-b296-f34483814607",
   "metadata": {},
   "source": [
    "# Parquet"
   ]
  },
  {
   "cell_type": "markdown",
   "metadata": {},
   "source": [
    "## 쓰기"
   ]
  },
  {
   "cell_type": "code",
   "execution_count": null,
   "id": "691d18ae-a768-47d9-abae-f664baec5e9c",
   "metadata": {},
   "outputs": [],
   "source": [
    "df.to_parquet('df.parquet', engine='pyarrow', index=None)\n",
    "# index : 데이터프레임의 index 저장 유무. False, True, None을 할당할 수 있다.\n",
    "## index=False: If you set index=False, the dataframe’s index will not be written to the file.\n",
    "## index=None: If you set index=None, the dataframe’s index will be saved.\n",
    "### However, instead of being saved as values, the RangeIndex will be stored as a range in the metadata so it doesn’t require much space and is faster.\n",
    "### Other indexes will be included as columns in the file output."
   ]
  },
  {
   "cell_type": "markdown",
   "metadata": {},
   "source": [
    "## 읽기"
   ]
  },
  {
   "cell_type": "code",
   "execution_count": 4,
   "id": "90f53931-a11f-4cba-82ea-e78699cc4ffd",
   "metadata": {},
   "outputs": [],
   "source": [
    "df = pd.read_parquet('df.parquet', engine='pyarrow') "
   ]
  },
  {
   "cell_type": "markdown",
   "id": "d639b5ea-8363-4387-b14e-7776cb841202",
   "metadata": {
    "tags": []
   },
   "source": [
    "# Dataframe을 이미지로 추출"
   ]
  },
  {
   "cell_type": "markdown",
   "id": "cd70e89d-1fb6-4b6b-ba2e-ebd81a1516da",
   "metadata": {},
   "source": [
    "## matplotlib를 이용\n",
    "  - dataframe-image 패키지를 이용 시, linux에서 crontab으로 실행할 경우 복잡한 권한 문제에 직면하게 됨\n",
    "  - dataframe-image 패키지도 matplotlib 기반이므로, 그냥 matplotlib를 사용"
   ]
  },
  {
   "cell_type": "code",
   "execution_count": 5,
   "id": "592f8200-e093-4c2e-9a06-36fef167c289",
   "metadata": {
    "tags": []
   },
   "outputs": [
    {
     "ename": "NameError",
     "evalue": "name 'caller' is not defined",
     "output_type": "error",
     "traceback": [
      "\u001b[0;31m---------------------------------------------------------------------------\u001b[0m",
      "\u001b[0;31mNameError\u001b[0m                                 Traceback (most recent call last)",
      "\u001b[1;32m/Users/limyj0708/Documents/personal/blog/blog/posts/2021-11-05_pandas_cheatsheet_08_파일 입출력.ipynb Cell 31\u001b[0m line \u001b[0;36m3\n\u001b[1;32m     <a href='vscode-notebook-cell:/Users/limyj0708/Documents/personal/blog/blog/posts/2021-11-05_pandas_cheatsheet_08_%ED%8C%8C%EC%9D%BC%20%EC%9E%85%EC%B6%9C%EB%A0%A5.ipynb#X35sZmlsZQ%3D%3D?line=35'>36</a>\u001b[0m             cell\u001b[39m.\u001b[39mset_text_props(fontproperties \u001b[39m=\u001b[39m NANUM, fontsize\u001b[39m=\u001b[39mfont_size, ha\u001b[39m=\u001b[39malign_cell)\n\u001b[1;32m     <a href='vscode-notebook-cell:/Users/limyj0708/Documents/personal/blog/blog/posts/2021-11-05_pandas_cheatsheet_08_%ED%8C%8C%EC%9D%BC%20%EC%9E%85%EC%B6%9C%EB%A0%A5.ipynb#X35sZmlsZQ%3D%3D?line=36'>37</a>\u001b[0m     \u001b[39mreturn\u001b[39;00m ax\n\u001b[0;32m---> <a href='vscode-notebook-cell:/Users/limyj0708/Documents/personal/blog/blog/posts/2021-11-05_pandas_cheatsheet_08_%ED%8C%8C%EC%9D%BC%20%EC%9E%85%EC%B6%9C%EB%A0%A5.ipynb#X35sZmlsZQ%3D%3D?line=38'>39</a>\u001b[0m image \u001b[39m=\u001b[39m render_mpl_table(caller, col_width\u001b[39m=\u001b[39m\u001b[39m2.0\u001b[39m, align_head\u001b[39m=\u001b[39m\u001b[39m'\u001b[39m\u001b[39mcenter\u001b[39m\u001b[39m'\u001b[39m)\n\u001b[1;32m     <a href='vscode-notebook-cell:/Users/limyj0708/Documents/personal/blog/blog/posts/2021-11-05_pandas_cheatsheet_08_%ED%8C%8C%EC%9D%BC%20%EC%9E%85%EC%B6%9C%EB%A0%A5.ipynb#X35sZmlsZQ%3D%3D?line=39'>40</a>\u001b[0m image\n\u001b[1;32m     <a href='vscode-notebook-cell:/Users/limyj0708/Documents/personal/blog/blog/posts/2021-11-05_pandas_cheatsheet_08_%ED%8C%8C%EC%9D%BC%20%EC%9E%85%EC%B6%9C%EB%A0%A5.ipynb#X35sZmlsZQ%3D%3D?line=40'>41</a>\u001b[0m image\u001b[39m.\u001b[39mfigure\u001b[39m.\u001b[39msavefig(\u001b[39m\"\u001b[39m\u001b[39mcaller.png\u001b[39m\u001b[39m\"\u001b[39m) \u001b[39m# 이미지 저장\u001b[39;00m\n",
      "\u001b[0;31mNameError\u001b[0m: name 'caller' is not defined"
     ]
    }
   ],
   "source": [
    "import six\n",
    "import matplotlib.pyplot as plt\n",
    "import matplotlib.font_manager as fm\n",
    "\n",
    "# matplotlib에서 한글이 안 나오는 문제 해결\n",
    "NANUM = fm.FontProperties(fname=r'/Users/limyj0708/Library/Fonts/NanumGothic.ttf')\n",
    "NANUM_bold = fm.FontProperties(fname=r'/Users/limyj0708/Library/Fonts/NanumGothicBold.ttf')\n",
    "\n",
    "# centos라면 폰트 경로는 아래와 같음\n",
    " # /usr/share/fonts/NanumFont/NanumBarunGothic.ttf\n",
    " # /usr/share/fonts/NanumFont/NanumGothicBold.ttf\n",
    "\n",
    "def render_mpl_table(data, col_width=3.0, row_height=0.625, font_size_header=16, font_size=14,\n",
    "                     header_color='#C2DED1', row_colors=['#f1f1f2', 'w'], edge_color='black',\n",
    "                     bbox=[0, 0, 1, 1], header_columns=0,\n",
    "                     ax=None, align_head='center', align_cell='center', **kwargs):\n",
    "    \"\"\"\n",
    "    align_head, align_cell : [ 'center' | 'right' | 'left' ] \n",
    "    \"\"\"\n",
    "    \n",
    "    if ax is None:\n",
    "        size = (np.array(data.shape[::-1]) + np.array([0, 1])) * np.array([col_width, row_height])\n",
    "        fig, ax = plt.subplots(figsize=size)\n",
    "        ax.axis('off')\n",
    "\n",
    "    mpl_table = ax.table(cellText=data.values, bbox=bbox, colLabels=data.columns, **kwargs)\n",
    "    mpl_table.auto_set_font_size(False)\n",
    "\n",
    "    for k, cell in  six.iteritems(mpl_table._cells):\n",
    "        cell.set_edgecolor(edge_color)\n",
    "        if k[0] == 0 or k[1] < header_columns:\n",
    "            cell.set_facecolor(header_color)\n",
    "            cell.set_text_props(color='black', fontproperties = NANUM_bold, fontsize=font_size_header, ha=align_head)\n",
    "        else:\n",
    "            cell.set_facecolor(row_colors[k[0]%len(row_colors)])\n",
    "            cell.set_text_props(fontproperties = NANUM, fontsize=font_size, ha=align_cell)\n",
    "    return ax\n",
    "\n",
    "image = render_mpl_table(caller, col_width=2.0, align_head='center')\n",
    "image\n",
    "image.figure.savefig(\"caller.png\") # 이미지 저장"
   ]
  }
 ],
 "metadata": {
  "kernelspec": {
   "display_name": "limyj0708",
   "language": "python",
   "name": "limyj0708"
  },
  "language_info": {
   "codemirror_mode": {
    "name": "ipython",
    "version": 3
   },
   "file_extension": ".py",
   "mimetype": "text/x-python",
   "name": "python",
   "nbconvert_exporter": "python",
   "pygments_lexer": "ipython3",
   "version": "3.11.2"
  },
  "toc-autonumbering": true,
  "widgets": {
   "application/vnd.jupyter.widget-state+json": {
    "state": {},
    "version_major": 2,
    "version_minor": 0
   }
  }
 },
 "nbformat": 4,
 "nbformat_minor": 5
}
