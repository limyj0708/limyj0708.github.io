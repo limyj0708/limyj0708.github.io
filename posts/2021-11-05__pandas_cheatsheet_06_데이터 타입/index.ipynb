{
 "cells": [
  {
   "cell_type": "markdown",
   "id": "467bff37-bced-4632-bf28-e995f9bc7b36",
   "metadata": {
    "tags": []
   },
   "source": [
    "---\n",
    "jupyter: python3\n",
    "toc: true\n",
    "toc-depth: 3\n",
    "toc-expand: true\n",
    "number-sections: true\n",
    "title: Pandas_06_데이터 타입\n",
    "date: 2021-11-05 00:06\n",
    "categories: pandas\n",
    "author: limyj0708\n",
    "comments:\n",
    "  giscus:\n",
    "    repo: limyj0708/blog\n",
    "format:\n",
    "    html:\n",
    "        page-layout: full\n",
    "---"
   ]
  },
  {
   "cell_type": "code",
   "execution_count": 1,
   "id": "d3dd94f9-d5df-4ca1-81fd-8a6a736555d4",
   "metadata": {
    "tags": []
   },
   "outputs": [],
   "source": [
    "import pandas as pd\n",
    "import numpy as np\n",
    "import copy\n",
    "from IPython.display import display_html, display"
   ]
  },
  {
   "cell_type": "code",
   "execution_count": 2,
   "id": "4281b5ba-d3c0-4063-a0a1-775dfa6ff742",
   "metadata": {
    "tags": []
   },
   "outputs": [],
   "source": [
    "def display_multiple_dfs(dfs:list, styles, margin=10):\n",
    "    display_target = ''\n",
    "    for each_df in dfs:\n",
    "        each_df_html = each_df[0].style.set_caption(f'<b>{each_df[1]}</b>').set_table_styles(styles).set_table_attributes(f\"style='display:inline;margin:{margin}px'\")._repr_html_()\n",
    "        display_target += each_df_html\n",
    "    display_html(display_target, raw = True)"
   ]
  },
  {
   "cell_type": "code",
   "execution_count": 3,
   "id": "bd76eaab-5a90-4c06-af6d-e77b741d11ed",
   "metadata": {
    "tags": []
   },
   "outputs": [],
   "source": [
    "styles = [\n",
    "    {\"selector\" : \"caption\", \"props\" : \"text-align:center; font-size:16px\"}\n",
    "]"
   ]
  },
  {
   "cell_type": "markdown",
   "id": "ce8e5831-2695-4c26-bda4-fb0eb833df86",
   "metadata": {
    "tags": []
   },
   "source": [
    "# dtypes : 컬럼들의 type 출력"
   ]
  },
  {
   "cell_type": "code",
   "execution_count": 4,
   "id": "376fb543-ab03-41c4-9fe9-505738ffeb08",
   "metadata": {},
   "outputs": [
    {
     "data": {
      "text/plain": [
       "float              float64\n",
       "int                  int64\n",
       "datetime    datetime64[ns]\n",
       "string              object\n",
       "dtype: object"
      ]
     },
     "execution_count": 4,
     "metadata": {},
     "output_type": "execute_result"
    }
   ],
   "source": [
    "df = pd.DataFrame({'float': [1.0],\n",
    "                   'int': [1],\n",
    "                   'datetime': [pd.Timestamp('20180310')],\n",
    "                   'string': ['foo']})\n",
    "df.dtypes\n",
    "# 더 이상의 설명은 필요 없다!"
   ]
  },
  {
   "cell_type": "markdown",
   "id": "3445d35a-c6a1-4c70-be23-b196913f5504",
   "metadata": {},
   "source": [
    "# select_dtypes : 특정 타입의 컬럼을 선택, 혹은 배제\n",
    "\n",
    "`DataFrame.select_dtypes(include=None, exclude=None)`\n",
    "\n",
    "- To select all numeric types, use np.number or 'number'\n",
    "- To select strings you must use the object dtype, but note that this will return all object dtype columns See the numpy dtype hierarchy\n",
    "- To select datetimes, use np.datetime64, 'datetime' or 'datetime64'\n",
    "- To select timedeltas, use np.timedelta64, 'timedelta' or 'timedelta64'\n",
    "- To select Pandas categorical dtypes, use 'category'\n",
    "- To select Pandas datetimetz dtypes, use 'datetimetz' (new in 0.20.0) or 'datetime64[ns, tz]'"
   ]
  },
  {
   "cell_type": "code",
   "execution_count": 5,
   "id": "0b6c82a9-2399-453c-89ac-b5aa7a425987",
   "metadata": {},
   "outputs": [
    {
     "data": {
      "text/html": [
       "<div>\n",
       "<style scoped>\n",
       "    .dataframe tbody tr th:only-of-type {\n",
       "        vertical-align: middle;\n",
       "    }\n",
       "\n",
       "    .dataframe tbody tr th {\n",
       "        vertical-align: top;\n",
       "    }\n",
       "\n",
       "    .dataframe thead th {\n",
       "        text-align: right;\n",
       "    }\n",
       "</style>\n",
       "<table border=\"1\" class=\"dataframe\">\n",
       "  <thead>\n",
       "    <tr style=\"text-align: right;\">\n",
       "      <th></th>\n",
       "      <th>a</th>\n",
       "      <th>b</th>\n",
       "      <th>c</th>\n",
       "    </tr>\n",
       "  </thead>\n",
       "  <tbody>\n",
       "    <tr>\n",
       "      <th>0</th>\n",
       "      <td>1</td>\n",
       "      <td>True</td>\n",
       "      <td>1.0</td>\n",
       "    </tr>\n",
       "    <tr>\n",
       "      <th>1</th>\n",
       "      <td>2</td>\n",
       "      <td>False</td>\n",
       "      <td>2.0</td>\n",
       "    </tr>\n",
       "    <tr>\n",
       "      <th>2</th>\n",
       "      <td>1</td>\n",
       "      <td>True</td>\n",
       "      <td>1.0</td>\n",
       "    </tr>\n",
       "    <tr>\n",
       "      <th>3</th>\n",
       "      <td>2</td>\n",
       "      <td>False</td>\n",
       "      <td>2.0</td>\n",
       "    </tr>\n",
       "    <tr>\n",
       "      <th>4</th>\n",
       "      <td>1</td>\n",
       "      <td>True</td>\n",
       "      <td>1.0</td>\n",
       "    </tr>\n",
       "    <tr>\n",
       "      <th>5</th>\n",
       "      <td>2</td>\n",
       "      <td>False</td>\n",
       "      <td>2.0</td>\n",
       "    </tr>\n",
       "  </tbody>\n",
       "</table>\n",
       "</div>"
      ],
      "text/plain": [
       "   a      b    c\n",
       "0  1   True  1.0\n",
       "1  2  False  2.0\n",
       "2  1   True  1.0\n",
       "3  2  False  2.0\n",
       "4  1   True  1.0\n",
       "5  2  False  2.0"
      ]
     },
     "execution_count": 5,
     "metadata": {},
     "output_type": "execute_result"
    }
   ],
   "source": [
    "df = pd.DataFrame({'a': [1, 2] * 3,\n",
    "                   'b': [True, False] * 3,\n",
    "                   'c': [1.0, 2.0] * 3})\n",
    "df"
   ]
  },
  {
   "cell_type": "code",
   "execution_count": 6,
   "id": "35ecaf2a-a405-489b-a4aa-1be78435d5d5",
   "metadata": {},
   "outputs": [
    {
     "data": {
      "text/html": [
       "<div>\n",
       "<style scoped>\n",
       "    .dataframe tbody tr th:only-of-type {\n",
       "        vertical-align: middle;\n",
       "    }\n",
       "\n",
       "    .dataframe tbody tr th {\n",
       "        vertical-align: top;\n",
       "    }\n",
       "\n",
       "    .dataframe thead th {\n",
       "        text-align: right;\n",
       "    }\n",
       "</style>\n",
       "<table border=\"1\" class=\"dataframe\">\n",
       "  <thead>\n",
       "    <tr style=\"text-align: right;\">\n",
       "      <th></th>\n",
       "      <th>b</th>\n",
       "    </tr>\n",
       "  </thead>\n",
       "  <tbody>\n",
       "    <tr>\n",
       "      <th>0</th>\n",
       "      <td>True</td>\n",
       "    </tr>\n",
       "    <tr>\n",
       "      <th>1</th>\n",
       "      <td>False</td>\n",
       "    </tr>\n",
       "    <tr>\n",
       "      <th>2</th>\n",
       "      <td>True</td>\n",
       "    </tr>\n",
       "    <tr>\n",
       "      <th>3</th>\n",
       "      <td>False</td>\n",
       "    </tr>\n",
       "    <tr>\n",
       "      <th>4</th>\n",
       "      <td>True</td>\n",
       "    </tr>\n",
       "    <tr>\n",
       "      <th>5</th>\n",
       "      <td>False</td>\n",
       "    </tr>\n",
       "  </tbody>\n",
       "</table>\n",
       "</div>"
      ],
      "text/plain": [
       "       b\n",
       "0   True\n",
       "1  False\n",
       "2   True\n",
       "3  False\n",
       "4   True\n",
       "5  False"
      ]
     },
     "execution_count": 6,
     "metadata": {},
     "output_type": "execute_result"
    }
   ],
   "source": [
    "df.select_dtypes(include='bool')"
   ]
  },
  {
   "cell_type": "code",
   "execution_count": 7,
   "id": "a2d50585-393c-4ed0-94b2-d0ccccf5d2d4",
   "metadata": {},
   "outputs": [
    {
     "data": {
      "text/html": [
       "<div>\n",
       "<style scoped>\n",
       "    .dataframe tbody tr th:only-of-type {\n",
       "        vertical-align: middle;\n",
       "    }\n",
       "\n",
       "    .dataframe tbody tr th {\n",
       "        vertical-align: top;\n",
       "    }\n",
       "\n",
       "    .dataframe thead th {\n",
       "        text-align: right;\n",
       "    }\n",
       "</style>\n",
       "<table border=\"1\" class=\"dataframe\">\n",
       "  <thead>\n",
       "    <tr style=\"text-align: right;\">\n",
       "      <th></th>\n",
       "      <th>c</th>\n",
       "    </tr>\n",
       "  </thead>\n",
       "  <tbody>\n",
       "    <tr>\n",
       "      <th>0</th>\n",
       "      <td>1.0</td>\n",
       "    </tr>\n",
       "    <tr>\n",
       "      <th>1</th>\n",
       "      <td>2.0</td>\n",
       "    </tr>\n",
       "    <tr>\n",
       "      <th>2</th>\n",
       "      <td>1.0</td>\n",
       "    </tr>\n",
       "    <tr>\n",
       "      <th>3</th>\n",
       "      <td>2.0</td>\n",
       "    </tr>\n",
       "    <tr>\n",
       "      <th>4</th>\n",
       "      <td>1.0</td>\n",
       "    </tr>\n",
       "    <tr>\n",
       "      <th>5</th>\n",
       "      <td>2.0</td>\n",
       "    </tr>\n",
       "  </tbody>\n",
       "</table>\n",
       "</div>"
      ],
      "text/plain": [
       "     c\n",
       "0  1.0\n",
       "1  2.0\n",
       "2  1.0\n",
       "3  2.0\n",
       "4  1.0\n",
       "5  2.0"
      ]
     },
     "execution_count": 7,
     "metadata": {},
     "output_type": "execute_result"
    }
   ],
   "source": [
    "df.select_dtypes(include=['float64'])"
   ]
  },
  {
   "cell_type": "code",
   "execution_count": 8,
   "id": "c6abbcff-50a6-4fd6-a3f5-a801775315ec",
   "metadata": {},
   "outputs": [
    {
     "data": {
      "text/html": [
       "<div>\n",
       "<style scoped>\n",
       "    .dataframe tbody tr th:only-of-type {\n",
       "        vertical-align: middle;\n",
       "    }\n",
       "\n",
       "    .dataframe tbody tr th {\n",
       "        vertical-align: top;\n",
       "    }\n",
       "\n",
       "    .dataframe thead th {\n",
       "        text-align: right;\n",
       "    }\n",
       "</style>\n",
       "<table border=\"1\" class=\"dataframe\">\n",
       "  <thead>\n",
       "    <tr style=\"text-align: right;\">\n",
       "      <th></th>\n",
       "      <th>b</th>\n",
       "      <th>c</th>\n",
       "    </tr>\n",
       "  </thead>\n",
       "  <tbody>\n",
       "    <tr>\n",
       "      <th>0</th>\n",
       "      <td>True</td>\n",
       "      <td>1.0</td>\n",
       "    </tr>\n",
       "    <tr>\n",
       "      <th>1</th>\n",
       "      <td>False</td>\n",
       "      <td>2.0</td>\n",
       "    </tr>\n",
       "    <tr>\n",
       "      <th>2</th>\n",
       "      <td>True</td>\n",
       "      <td>1.0</td>\n",
       "    </tr>\n",
       "    <tr>\n",
       "      <th>3</th>\n",
       "      <td>False</td>\n",
       "      <td>2.0</td>\n",
       "    </tr>\n",
       "    <tr>\n",
       "      <th>4</th>\n",
       "      <td>True</td>\n",
       "      <td>1.0</td>\n",
       "    </tr>\n",
       "    <tr>\n",
       "      <th>5</th>\n",
       "      <td>False</td>\n",
       "      <td>2.0</td>\n",
       "    </tr>\n",
       "  </tbody>\n",
       "</table>\n",
       "</div>"
      ],
      "text/plain": [
       "       b    c\n",
       "0   True  1.0\n",
       "1  False  2.0\n",
       "2   True  1.0\n",
       "3  False  2.0\n",
       "4   True  1.0\n",
       "5  False  2.0"
      ]
     },
     "execution_count": 8,
     "metadata": {},
     "output_type": "execute_result"
    }
   ],
   "source": [
    "df.select_dtypes(exclude=['int64'])"
   ]
  },
  {
   "cell_type": "markdown",
   "id": "8c8c8185-dab7-4cc2-a572-51dcedda6588",
   "metadata": {},
   "source": [
    "# astype : 타입 변경. Bigquery에 df 업로드 시 반드시 사용\n",
    "`DataFrame.astype(dtype, copy=True, errors='raise')`\n",
    "\n",
    "- copy : False를 하면, 복사를 하는 게 아니고 원본에 연결되므로 변경사항이 원본에까지 전파됨\n",
    "- errors : ignore로 세팅하면, 에러 발생 시 원본을 반환하고 끝냄"
   ]
  },
  {
   "cell_type": "code",
   "execution_count": 9,
   "id": "17d4df74-6d47-4bea-9ea6-5f9adeb22409",
   "metadata": {},
   "outputs": [
    {
     "data": {
      "text/plain": [
       "col1    int64\n",
       "col2    int64\n",
       "dtype: object"
      ]
     },
     "execution_count": 9,
     "metadata": {},
     "output_type": "execute_result"
    }
   ],
   "source": [
    "d = {'col1': [1, 2], 'col2': [3, 4]}\n",
    "df = pd.DataFrame(data=d)\n",
    "df.dtypes"
   ]
  },
  {
   "cell_type": "code",
   "execution_count": 10,
   "id": "77fe97ac-c4d6-4858-98f5-0650f7656b84",
   "metadata": {},
   "outputs": [
    {
     "data": {
      "text/plain": [
       "col1    int32\n",
       "col2    int64\n",
       "dtype: object"
      ]
     },
     "execution_count": 10,
     "metadata": {},
     "output_type": "execute_result"
    }
   ],
   "source": [
    "df.astype({'col1': 'int32'}).dtypes\n",
    "# 잘 변경됐습니다~"
   ]
  }
 ],
 "metadata": {
  "kernelspec": {
   "display_name": "Python 3 (ipykernel)",
   "language": "python",
   "name": "python3"
  },
  "language_info": {
   "codemirror_mode": {
    "name": "ipython",
    "version": 3
   },
   "file_extension": ".py",
   "mimetype": "text/x-python",
   "name": "python",
   "nbconvert_exporter": "python",
   "pygments_lexer": "ipython3",
   "version": "3.11.2"
  },
  "widgets": {
   "application/vnd.jupyter.widget-state+json": {
    "state": {},
    "version_major": 2,
    "version_minor": 0
   }
  }
 },
 "nbformat": 4,
 "nbformat_minor": 5
}
