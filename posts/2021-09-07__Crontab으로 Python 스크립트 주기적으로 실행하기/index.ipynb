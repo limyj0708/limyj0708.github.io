{
 "cells": [
  {
   "cell_type": "markdown",
   "id": "337a3588-52a3-42c2-9149-ab92f7b979a3",
   "metadata": {},
   "source": [
    "---\n",
    "jupyter: python3\n",
    "toc: true\n",
    "toc-depth: 3\n",
    "toc-expand: true\n",
    "number-sections: true\n",
    "title: Crontab으로 Python 스크립트 주기적으로 실행하기\n",
    "date: 2021-09-07\n",
    "categories: [Python]\n",
    "author: limyj0708\n",
    "comments:\n",
    "  giscus: \n",
    "    repo: limyj0708/blog\n",
    "---"
   ]
  },
  {
   "cell_type": "markdown",
   "id": "d14db551-a825-4af0-af19-cbf8ca18a134",
   "metadata": {},
   "source": [
    "주기적으로 외부 API를 통해 데이터를 수집하여, Bigquery에 적재하고 싶다.\n",
    "CentOS 서버에서, 주기적으로 Python 스크립트를 실행하여 해결해 보자.\n",
    "\n",
    "1. `sudo crontab -e`  : crontab 설정 오픈. 자동으로 root가 작업하는 것으로 인지됨\n",
    "\n",
    "2. 설정\n",
    "   1. 경로는 절대경로를 입력해야 제대로 작동\n",
    "      * Python 경로도 절대경로로 입력해 줘야 함\n",
    "   2. 시간설정은 아래 링크에서 직관적으로 확인 가능\n",
    "      * [Crontab.guru - The cron schedule expression editor](https://crontab.guru/#30_8_*_*_*)"
   ]
  },
  {
   "cell_type": "markdown",
   "id": "c187aaa5-2525-483e-97e4-4739378fed72",
   "metadata": {},
   "source": [
    "```sh\n",
    "30 8 * * * /usr/local/bin/python3.9 /home/limyj0708/cw_daily_bigquery/cw_daily.py\n",
    "```"
   ]
  },
  {
   "cell_type": "markdown",
   "id": "f634c567-e843-47ef-bf89-df4b089a3c0e",
   "metadata": {},
   "source": [
    "3. cron 재시작\n",
    "   1. 재시작해야 적용됨\n",
    "   2. `service cron restart`\n",
    "   3. CentOS일 경우, `service crond restart`"
   ]
  }
 ],
 "metadata": {
  "kernelspec": {
   "display_name": "Python 3 (ipykernel)",
   "language": "python",
   "name": "python3"
  },
  "language_info": {
   "codemirror_mode": {
    "name": "ipython",
    "version": 3
   },
   "file_extension": ".py",
   "mimetype": "text/x-python",
   "name": "python",
   "nbconvert_exporter": "python",
   "pygments_lexer": "ipython3",
   "version": "3.11.2"
  },
  "widgets": {
   "application/vnd.jupyter.widget-state+json": {
    "state": {},
    "version_major": 2,
    "version_minor": 0
   }
  }
 },
 "nbformat": 4,
 "nbformat_minor": 5
}
