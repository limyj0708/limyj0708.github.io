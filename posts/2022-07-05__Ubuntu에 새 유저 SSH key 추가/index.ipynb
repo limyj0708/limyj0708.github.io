{
 "cells": [
  {
   "cell_type": "markdown",
   "metadata": {},
   "source": [
    "---\n",
    "jupyter: python3\n",
    "toc: true\n",
    "toc-depth: 3\n",
    "toc-expand: true\n",
    "number-sections: true\n",
    "title: Ubuntu 새 유저 SSH key 추가\n",
    "date: 2019-10-12\n",
    "categories: [Linux]\n",
    "author: limyj0708\n",
    "comments:\n",
    "  giscus: \n",
    "    repo: limyj0708/blog\n",
    "---"
   ]
  },
  {
   "cell_type": "markdown",
   "metadata": {},
   "source": [
    "## 1. 배경\n",
    " - Oracle Free tier에서 Ubuntu instance를 만들면, 기본 계정명이 ubuntu다.\n",
    "   - 계정을 새로 만들면, 처음에 생성했던 SSH key로는 접속이 되지 않는다.\n",
    " - key를 새로 만든 후에, instance에 등록해보자."
   ]
  },
  {
   "cell_type": "markdown",
   "metadata": {
    "jp-MarkdownHeadingCollapsed": true,
    "tags": []
   },
   "source": [
    "## 2. 새 계정 생성\n",
    "  - `sudo adduser limyj0708` : limyj0708 계정 생성\n",
    "    - password 설정 진행\n",
    "    - 몇 가지 정보 적당히 씀 (Full_name 등)\n",
    "  - `sudo usermod -aG sudo limyj0708` : sudo 그룹을 limyj0708에 추가하여 sudo 명령어를 사용 가능하게 세팅"
   ]
  },
  {
   "cell_type": "markdown",
   "metadata": {},
   "source": [
    "## 3. SSH key 생성\n",
    "  ```Shell\n",
    "   ssh-keygen -t rsa -N \"원하는 password\" -b 2048 -C \"원하는 comment\" -f \"원하는 file path\"\n",
    "  ```\n",
    "  - byte는 최소 2048로 진행\n",
    "  - file path에 지정한 경로, 이름으로 공개키와 비밀키가 생성된다.\n",
    "  - 기존에 사용하던 key를 그대로 사용해도 되지만, 계정이 다르면 다른 key를 사용하려고 한다."
   ]
  },
  {
   "cell_type": "markdown",
   "metadata": {},
   "source": [
    "## 4. instance에 SSH key 등록\n",
    "  - local이 리눅스면 ssh-copy-id를 쓰고, 윈도우에서도 해당 명령어에 대응하는 powershell 명령어가 있던데, 솔직히 잘 안 되었다. 권한 문제 뜨고.\n",
    "  - 그래서 수동으로 추가하기로 한다.\n",
    "  \n",
    "  1. 새로 생성한 계정에서는 처음에 /.ssh 폴더가 없다. 생성해줘야 한다.\n",
    "  2. ubuntu 계정으로 접속\n",
    "     1. `sudo su` : root 계정으로 변경\n",
    "     2. `mkdir /home/limyj0708/.ssh` : .ssh 폴더 생성\n",
    "     3. `nano /home/limyj0708/.ssh/authorized_keys` : authorized_keys 파일도 없어서 새로 생성된다.\n",
    "        - 이제 위에서 생성했던 공개키의 내용을 붙여넣고 저장한다."
   ]
  },
  {
   "cell_type": "markdown",
   "metadata": {},
   "source": [
    "## 5. instance에 접속\n",
    "  - Openssh 윈도우에서도 잘 되니까, Powershell에서 아래 명령어로 접속한다.\n",
    "  \n",
    "  ```shell\n",
    "  ssh -i \"비밀키 경로\" limyj0708@서버ip\n",
    "  ```\n",
    "  \n",
    "  - Profit!"
   ]
  }
 ],
 "metadata": {
  "kernelspec": {
   "display_name": "Python 3 (ipykernel)",
   "language": "python",
   "name": "python3"
  },
  "language_info": {
   "codemirror_mode": {
    "name": "ipython",
    "version": 3
   },
   "file_extension": ".py",
   "mimetype": "text/x-python",
   "name": "python",
   "nbconvert_exporter": "python",
   "pygments_lexer": "ipython3",
   "version": "3.11.2"
  },
  "widgets": {
   "application/vnd.jupyter.widget-state+json": {
    "state": {},
    "version_major": 2,
    "version_minor": 0
   }
  }
 },
 "nbformat": 4,
 "nbformat_minor": 4
}
