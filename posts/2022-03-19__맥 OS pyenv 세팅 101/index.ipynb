{
 "cells": [
  {
   "cell_type": "markdown",
   "id": "29fbaf59-efd7-479f-91f3-6a0c435c9e54",
   "metadata": {},
   "source": [
    "---\n",
    "jupyter: python3\n",
    "toc: true\n",
    "toc-depth: 3\n",
    "toc-expand: true\n",
    "number-sections: true\n",
    "title: 맥 OS pyenv 세팅 101\n",
    "date: 2022-03-19\n",
    "categories: [Python]\n",
    "author: limyj0708\n",
    "comments:\n",
    "  giscus: \n",
    "    repo: limyj0708/blog\n",
    "---"
   ]
  },
  {
   "cell_type": "markdown",
   "id": "33c12f98-db75-4b81-8da0-0c19b03925d0",
   "metadata": {},
   "source": [
    "## 1. brew 설치\n",
    " \n",
    "- [https://brew.sh](https://brew.sh) 확인하여 설치\n",
    "- 설치 후 ~/.zprofile에 `eval \"$(/opt/homebrew/bin/brew shellenv)\"` 추가\n",
    "  - 다 설치하면 맨 마지막에 안내문으로 추가하라고 나오니 따라하기만 하자."
   ]
  },
  {
   "cell_type": "markdown",
   "id": "ae83ffa7-6760-4cff-a912-d93648ad8c39",
   "metadata": {},
   "source": [
    "## 2. pyenv 설치\n",
    "\n",
    "- `brew install pyenv` : 설치가 끝났다면...\n",
    "  - .zshrc에 `eval \"$(pyenv init -)\"` 추가\n",
    "  - .zprofile에 `eval \"$(pyenv init --path)\"` 추가"
   ]
  },
  {
   "cell_type": "markdown",
   "id": "3b6c2e68-eaea-49c0-9d3f-12783391a973",
   "metadata": {},
   "source": [
    "## 3. pyenv로 원하는 파이썬 버전 설치\n",
    "  \n",
    "- `pyenv install -list` : 설치가능한 파이썬 버전 목록 확인\n",
    "- `pyenv install 3.10.3` : 예) 3.10.3 버전 설치"
   ]
  },
  {
   "cell_type": "markdown",
   "id": "a93299df-25cb-4070-bb13-f8ebb465ec7d",
   "metadata": {},
   "source": [
    "## 4. pyenv-virtualenv 설치\n",
    "\n",
    "- `brew install pyenv-virtualenv`\n",
    "  - .zshrc에 `eval \"$(pyenv virtualenv-init -)\"` 추가"
   ]
  },
  {
   "cell_type": "markdown",
   "id": "3908dfe2-d83c-4df7-b7a9-88379c553c70",
   "metadata": {},
   "source": [
    "## 5. pyenv로 가상환경 생성\n",
    "\n",
    "- `pyenv virtualenv [파이썬 버전] [가상환경 이름]`\n",
    "    - 예) `pyenv virtualenv 3.10.3 requests-3.10.3`\n",
    "- `pyenv versions` : 생성한 가상환경이 추가되었음을 알 수 있음"
   ]
  },
  {
   "cell_type": "markdown",
   "id": "76a43b66-cff9-484b-8c64-c7df35e4797c",
   "metadata": {},
   "source": [
    "## 6. 가상환경 on/off\n",
    "\n",
    "- 직접 on/off\n",
    "  - pyenv activate requests-3.10.3\n",
    "    - 실행하면 아래와 같은 메세지가 출력된다.\n",
    "    - pyenv-virtualenv: prompt changing will be removed from future release. configure \"export PYENV_VIRTUALENV_DISABLE_PROMPT=1\" to simulate the behavior\n",
    "    - 곧 이 기능은 사라질 모양이다.\n",
    "  - pyenv deactivate\n",
    "- shell의 세션이 유지되는 동안 가상환경 유지\n",
    "  - pyenv shell requests-3.10.3\n",
    "- 원하는 폴더에 가서 실행하면, 이후 shell에서 해당 폴더로 가면 자동으로 원하는 가상환경이 켜지게 됨 (.python-version 파일이 해당 폴더에 생성)\n",
    "  - pyenv local requests-3.10.3\n",
    "  - pyenv local system : 다시 기본 시스템 버전으로 돌리고 싶을 때\n",
    "  - 해당 폴더에서 나가면 자동으로 기본 환경으로 돌아가게 된다. 편리하네!\n",
    "- 전체 적용\n",
    "  - pyenv global requests-3.10.3\n",
    "  - pyenv global system : 다시 기본 시스템 버전으로 돌리고 싶을 때\n",
    "- shell의 세션이 유지되는 동안 가상환경 유지\n",
    "  - pyenv shell requests-3.10.3"
   ]
  }
 ],
 "metadata": {
  "kernelspec": {
   "display_name": "Python 3 (ipykernel)",
   "language": "python",
   "name": "python3"
  },
  "language_info": {
   "codemirror_mode": {
    "name": "ipython",
    "version": 3
   },
   "file_extension": ".py",
   "mimetype": "text/x-python",
   "name": "python",
   "nbconvert_exporter": "python",
   "pygments_lexer": "ipython3",
   "version": "3.11.2"
  },
  "widgets": {
   "application/vnd.jupyter.widget-state+json": {
    "state": {},
    "version_major": 2,
    "version_minor": 0
   }
  }
 },
 "nbformat": 4,
 "nbformat_minor": 5
}
