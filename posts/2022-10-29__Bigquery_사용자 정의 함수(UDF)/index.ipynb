{
 "cells": [
  {
   "cell_type": "markdown",
   "id": "ccc5045c-f528-49e3-9dac-2f2a87736301",
   "metadata": {},
   "source": [
    "---\n",
    "jupyter: Python3\n",
    "date: 2022-10-29\n",
    "title: Bigquery_사용자 정의 함수(UDF)\n",
    "toc: true\n",
    "toc-depth: 3\n",
    "toc-expand: true\n",
    "number-sections: true\n",
    "categories: SQL\n",
    "author: limyj0708\n",
    "comments:\n",
    "  giscus: \n",
    "    repo: limyj0708/blog\n",
    "format:\n",
    "    html:\n",
    "        page-layout: full\n",
    "---"
   ]
  },
  {
   "cell_type": "markdown",
   "id": "1f654743-7f53-4d7b-a7ca-61d37a2b743d",
   "metadata": {},
   "source": [
    "- 다른 언어에서 함수를 정의, 사용하는 과정과 동일하다.\n",
    "- 엄청 긴 CASE WHEN 구문 같은 것을 등록해 두면, 두고두고 편하게 사용할 수 있다."
   ]
  },
  {
   "cell_type": "markdown",
   "id": "d8f3714d-256a-4489-93f2-bbcf8702c87a",
   "metadata": {},
   "source": [
    "## 함수 등록하기"
   ]
  },
  {
   "cell_type": "markdown",
   "id": "b445a016-320f-4453-a361-077c42e8e138",
   "metadata": {},
   "source": [
    "```SQL\n",
    "CREATE OR REPLACE FUNCTION `project_id.dataset.function_name` -- 이 위치에 만들 것\n",
    "(money_enum INT64) RETURNS STRING -- 정수 parameter를 받아서 문자열을 반환함\n",
    "OPTIONS (description=\"money_enum을 인자로 받아서 money_name 값을 반환하는 함수\") AS (\n",
    "    CASE money_enum\n",
    "      WHEN 1 THEN \"재화 1\"\n",
    "      WHEN 2 THEN \"재화 2\"\n",
    "      WHEN 3 THEN \"재화 3\"\n",
    "      WHEN 4 THEN \"재화 4\"\n",
    "      WHEN 5 THEN \"재화 5\"\n",
    "      WHEN 6 THEN \"재화 6\"\n",
    "      WHEN 7 THEN \"재화 7\"\n",
    "      WHEN 8 THEN \"재화 8\"\n",
    "      WHEN 9 THEN \"재화 9\"\n",
    "      WHEN 10 THEN \"재화 10\"\n",
    "      WHEN 11 THEN \"재화 11\"\n",
    "      WHEN 12 THEN \"재화 12\"\n",
    "      WHEN 13 THEN \"재화 13\"\n",
    "      WHEN 14 THEN \"재화 14\"\n",
    "      WHEN 15 THEN \"재화 15\"\n",
    "      WHEN 16 THEN \"재화 16\"\n",
    "      WHEN 17 THEN \"재화 17\"\n",
    "      WHEN 18 THEN \"재화 18\"\n",
    "      WHEN 19 THEN \"재화 19\"\n",
    "      WHEN 20 THEN \"재화 20\"\n",
    "      ELSE \"대응되는 money enum 없음\"\n",
    "    END\n",
    ");\n",
    "```"
   ]
  },
  {
   "cell_type": "markdown",
   "id": "5c3b7b2f-e3ba-4e08-ae5a-d7bea35b3a69",
   "metadata": {},
   "source": [
    "## 함수 사용하기"
   ]
  },
  {
   "cell_type": "markdown",
   "id": "a5efd5fb-3ef2-49bf-8555-245ca9ed4fc5",
   "metadata": {},
   "source": [
    "```SQL\n",
    " SELECT b_date, accountId, money_type, amount,\n",
    "    `project_id.dataset.function_name`(money_type) AS money_name -- money_type을 넣으면 money_name을 반환하는 UDF\n",
    "    FROM `-` \n",
    "    where b_date = start_date\n",
    "    and money_type NOT IN (3,4,5)\n",
    "```\n",
    "\n",
    "위와 같이 함수를 호출하여 불러오면 된다."
   ]
  }
 ],
 "metadata": {
  "kernelspec": {
   "display_name": "Python 3 (ipykernel)",
   "language": "python",
   "name": "python3"
  },
  "language_info": {
   "codemirror_mode": {
    "name": "ipython",
    "version": 3
   },
   "file_extension": ".py",
   "mimetype": "text/x-python",
   "name": "python",
   "nbconvert_exporter": "python",
   "pygments_lexer": "ipython3",
   "version": "3.11.2"
  },
  "widgets": {
   "application/vnd.jupyter.widget-state+json": {
    "state": {},
    "version_major": 2,
    "version_minor": 0
   }
  }
 },
 "nbformat": 4,
 "nbformat_minor": 5
}
