{
 "cells": [
  {
   "cell_type": "markdown",
   "metadata": {},
   "source": [
    "---\n",
    "jupyter: python3\n",
    "toc: true\n",
    "toc-depth: 3\n",
    "toc-expand: true\n",
    "number-sections: true\n",
    "date: 2022-06-13\n",
    "title: Git CheatSheet (지속적으로 업데이트함)\n",
    "categories: [git]\n",
    "author: limyj0708\n",
    "comments:\n",
    "  giscus: \n",
    "    repo: limyj0708/blog\n",
    "---"
   ]
  },
  {
   "cell_type": "markdown",
   "metadata": {
    "tags": []
   },
   "source": [
    "> 안 쓰면 잊어버리는, git 주요 조작법들을 정리"
   ]
  },
  {
   "cell_type": "markdown",
   "metadata": {},
   "source": [
    "**교과서 : https://git-scm.com/book/ko/v2**"
   ]
  },
  {
   "cell_type": "markdown",
   "metadata": {},
   "source": [
    "# 기존 디렉토리를 Git 저장소로 만들기\n",
    "- 원하는 폴더로 이동 후 `git init`"
   ]
  },
  {
   "cell_type": "markdown",
   "metadata": {
    "tags": []
   },
   "source": [
    "# 수정과 저장"
   ]
  },
  {
   "cell_type": "markdown",
   "metadata": {},
   "source": [
    "![lifecycle.png](https://git-scm.com/book/en/v2/images/lifecycle.png)\n",
    "\n",
    "워킹 디렉토리의 모든 파일은 크게 Tracked(관리대상임)와 Untracked(관리대상이 아님)로 나눈다. Tracked 파일은 이미 스냅샷에 포함돼 있던 파일이다. Tracked 파일은 또 Unmodified(수정하지 않음)와 Modified(수정함) 그리고 Staged(커밋으로 저장소에 기록할) 상태 중 하나이다. 간단히 말하자면 Git이 알고 있는 파일이라는 것이다.\n",
    "\n",
    "그리고 나머지 파일은 모두 Untracked 파일이다. Untracked 파일은 워킹 디렉토리에 있는 파일 중 스냅샷에도 Staging Area에도 포함되지 않은 파일이다. 처음 저장소를 Clone 하면 모든 파일은 Tracked이면서 Unmodified 상태이다. 파일을 Checkout 하고 나서 아무것도 수정하지 않았기 때문에 그렇다.\n",
    "\n",
    "마지막 커밋 이후 아직 아무것도 수정하지 않은 상태에서 어떤 파일을 수정하면 Git은 그 파일을 Modified 상태로 인식한다. 실제로 커밋을 하기 위해서는 이 수정한 파일을 Staged 상태로 만들고, Staged 상태의 파일을 커밋한다. 이런 라이프사이클을 계속 반복한다."
   ]
  },
  {
   "cell_type": "markdown",
   "metadata": {},
   "source": [
    "## 상태 확인\n",
    "  - `git status`\n",
    "  \n",
    "```PowerShell\n",
    "  PS C:\\Users\\limyj0708\\fastpages> git status\n",
    "On branch master\n",
    "Your branch is up to date with 'origin/master'.\n",
    "\n",
    "Untracked files:\n",
    "  (use \"git add <file>...\" to include in what will be committed)\n",
    "        _notebooks/2022-06-13-git_cheatsheet.ipynb\n",
    "\n",
    "nothing added to commit but untracked files present (use \"git add\" to track)\n",
    "```\n",
    "  \n",
    "  - 2022-06-13-git_cheatsheet.ipynb 파일이 untracked 상태\n",
    "  - Git은 Untracked 파일을 아직 스냅샷(커밋)에 넣어지지 않은 파일이라고 본다. 파일이 Tracked 상태가 되기 전까지는 Git은 절대 그 파일을 커밋하지 않는다. 그래서 일하면서 생성하는 바이너리 파일 같은 것을 커밋하는 실수는 하지 않게 된다."
   ]
  },
  {
   "cell_type": "markdown",
   "metadata": {
    "tags": []
   },
   "source": [
    "## 파일을 새로 추적하기\n",
    "- `git add _notebooks/2022-06-13-git_cheatsheet.ipynb`\n",
    "- 이후 다시 status를 보면\n",
    "\n",
    "```PowerShell\n",
    "PS C:\\Users\\limyj0708\\fastpages> git status\n",
    "On branch master\n",
    "Your branch is up to date with 'origin/master'.\n",
    "\n",
    "Changes to be committed:\n",
    "  (use \"git restore --staged <file>...\" to unstage)\n",
    "        new file:   _notebooks/2022-06-13-git_cheatsheet.ipynb\n",
    "```\n",
    "\n",
    "- “Changes to be committed” 에 들어 있는 파일은 Staged 상태라는 것을 의미한다. 커밋하면 git add 를 실행한 시점의 파일이 커밋되어 저장소 히스토리에 남는다.\n",
    "- git add 명령은 파일 또는 디렉토리의 경로를 argument로 받는다. 디렉토리면 아래에 있는 모든 파일들까지 재귀적으로 추가한다.\n",
    "- `git add .` 의 경우, .은 현재 디렉토리를 나타내므로, 현재 디렉토리와 하위 디렉토리의 모든 파일들을 Staged 상태로 만든다."
   ]
  },
  {
   "cell_type": "markdown",
   "metadata": {
    "tags": []
   },
   "source": [
    "## Modified 상태의 파일을 Staging 하기\n",
    "\n",
    "- 2022-06-13-git_cheatsheet.ipynb를 수정한 후에 `git status`를 해 보면?\n",
    "\n",
    "```PowerShell\n",
    "On branch master\n",
    "Your branch is up to date with 'origin/master'.\n",
    "\n",
    "Changes to be committed:\n",
    "  (use \"git restore --staged <file>...\" to unstage)\n",
    "        new file:   _notebooks/2022-06-13-git_cheatsheet.ipynb\n",
    "\n",
    "Changes not staged for commit:\n",
    "  (use \"git add <file>...\" to update what will be committed)\n",
    "  (use \"git restore <file>...\" to discard changes in working directory)\n",
    "        modified:   _notebooks/2022-06-13-git_cheatsheet.ipynb\n",
    "```\n",
    "\n",
    "- “Changes not staged for commit” 에 있다. 이것은 수정한 파일이 Tracked 상태이지만 아직 Staged 상태는 아니라는 것이다. Staged 상태로 만들려면 git add 명령을 실행해야 한다. git add 명령은 파일을 새로 추적할 때도 사용하고 수정한 파일을 Staged 상태로 만들 때도 사용한다. Merge 할 때 충돌난 상태의 파일을 Resolve 상태로 만들때도 사용한다. add의 의미는 프로젝트에 파일을 추가한다기 보다는 다음 커밋에 추가한다고 받아들이는게 좋다.\n",
    "\n",
    "- `git add _notebooks/2022-06-13-git_cheatsheet.ipynb`후 다시 `git status`를 해 보자.\n",
    "\n",
    "```PowerShell\n",
    "PS C:\\Users\\limyj0708\\fastpages> git status\n",
    "On branch master\n",
    "Your branch is up to date with 'origin/master'.\n",
    "\n",
    "Changes to be committed:\n",
    "  (use \"git restore --staged <file>...\" to unstage)\n",
    "        new file:   _notebooks/2022-06-13-git_cheatsheet.ipynb\n",
    "```\n",
    "\n",
    "- “Changes to be committed”에 잘 들어갔는데, 여기서 또 수정을 하고 `git status`를 하면?\n",
    "\n",
    "```PowerShell\n",
    "PS C:\\Users\\limyj0708\\fastpages> git status\n",
    "On branch master\n",
    "Your branch is up to date with 'origin/master'.\n",
    "\n",
    "Changes to be committed:\n",
    "  (use \"git restore --staged <file>...\" to unstage)\n",
    "        new file:   _notebooks/2022-06-13-git_cheatsheet.ipynb\n",
    "\n",
    "Changes not staged for commit:\n",
    "  (use \"git add <file>...\" to update what will be committed)\n",
    "  (use \"git restore <file>...\" to discard changes in working directory)\n",
    "        modified:   _notebooks/2022-06-13-git_cheatsheet.ipynb\n",
    "```\n",
    "\n",
    "- Changes to be committed / Changes not staged for commit에 둘 다 2022-06-13-git_cheatsheet.ipynb이 들어있는 이유\n",
    "  - 지금 이 시점에서 커밋을 하면 git commit 명령을 실행하는 시점의 버전이 커밋되는 것이 아니라 마지막으로 git add 명령을 실행했을 때의 버전이 커밋된다. 그러니까 git add 명령을 실행한 후에 또 파일을 수정하면 git add 명령을 다시 실행해서 최신 버전을 Staged 상태로 만들어야 한다."
   ]
  },
  {
   "cell_type": "markdown",
   "metadata": {},
   "source": [
    "## commit\n",
    "- Staged 상태가 된 파일을 저장소에 기록\n",
    "- 커밋 메세지를 첨부하려면 -m을 붙이고 메시지를 기재\n",
    "```Shell\n",
    "git commit -m \"modify readme\"\n",
    "[main c524828] modify readme\n",
    " 1 file changed, 23 insertions(+), 24 deletions(-)\n",
    "```\n",
    "- main branch에 기록되었으며, 체크섬은 c524828\n",
    "- -a 옵션을 붙이면, add를 해서 staging area에 변경된 파일을 추가하는 작업을 자동으로 처리해 줌\n",
    "    - `git commit -a -m \"modify readme\"`"
   ]
  },
  {
   "cell_type": "markdown",
   "metadata": {},
   "source": [
    "## 파일 삭제\n",
    "- `git rm [파일명 or 디렉토리명]`\n",
    "    - 파일이 실제로 삭제된다.\n",
    "- 파일을 그냥 삭제하면, 파일이 unstaged 상태에 있다고 표시된다.\n",
    "    - 파일을 그냥 삭제하였다면, git rm을 적용해 주어야 staged 상태가 된다.\n",
    "    - 그리고 commit을 하면, 더 이상 파일을 추적하지 않는다. \n",
    "- 파일을 수정했는데 지우고 싶거나, staging area에 추가했다면, -f 옵션을 주어서 강제로 삭제해야 한다.\n",
    "- Staging Area에서만 제거하고 디렉토리에 있는 파일은 지우지 않고 남겨두기\n",
    "    - --cached 옵션 사용\n",
    "    - `git rm --cached README`\n",
    "- 한 번에 여러 파일 삭제하기\n",
    "    - `git rm log/\\*.log`\n",
    "        - log 폴더 내의, .log 확장자인 파일을 모두 삭제함\n",
    "    - `git rm \\*~`\n",
    "        - 이름이 ~로 끝나는 파일을 모두 삭제함"
   ]
  },
  {
   "cell_type": "markdown",
   "metadata": {
    "tags": []
   },
   "source": [
    "## 파일 이동, 이름 바꾸기\n",
    "- `git mv README.md README`\n",
    "    - README.md를 README로 이름 변경"
   ]
  },
  {
   "cell_type": "markdown",
   "metadata": {},
   "source": [
    "# 원격 저장소"
   ]
  },
  {
   "cell_type": "markdown",
   "metadata": {},
   "source": [
    "## 원격 저장소 확인하기\n",
    "```shell\n",
    "$ git remote -v\n",
    "origin  https://github.com/limyj0708/bigquery_module.git (fetch)\n",
    "origin  https://github.com/limyj0708/bigquery_module.git (push)\n",
    "\n",
    "```"
   ]
  },
  {
   "cell_type": "markdown",
   "metadata": {},
   "source": [
    "## 원격 저장소 추가하기\n",
    "  - `git remote add <원격 저장소 이름> <url>`\n",
    "      - clone 시에는, 단축이름이 자동으로 origin이 된다.\n",
    "      - `git clone https://github.com/limyj0708/fastpages.git` : 이런 식으로 할 경우\n",
    "  - 현재 디렉토리에 추가된 원격 저장소가 있는데, 다른 원격 저장소로 바꾸고 싶을 경우\n",
    "      - https://shanepark.tistory.com/284 참조"
   ]
  },
  {
   "cell_type": "markdown",
   "metadata": {},
   "source": [
    "## 원격 저장소에서 Pull, Fetch\n",
    "- `git fetch <원격 저장소 이름>`\n",
    "    - 로컬에는 없는데, 원격 저장소에 있는 내용을 모두 가져온다.\n",
    "    - 가져오긴 하지만 branch를 merge 하지는 않으므로, 수동으로 merge 해야 한다.\n",
    "- `git pull <원격 저장소 이름>`\n",
    "    - 원격 저장소에 있는 내용을 모두 가져온 후, branch merge까지 알아서 진행한다.\n",
    "    - 최초에 내용을 `git clone`으로 가져왔을 경우, 자동으로 로컬의 master branch가 리모트 저장소의 master branch를 추적하도록 한다(물론 리모트 저장소에 master 브랜치가 있다는 가정에서)."
   ]
  },
  {
   "cell_type": "markdown",
   "metadata": {},
   "source": [
    "## 원격 저장소에 Push 하기\n",
    "- `git push <원격 저장소 이름> <브랜치 이름>`\n",
    "    - 최초에 `git clone`으로 가져왔을 경우, 단축이름은 origin이고 branch 이름은 master이므로 아래와 같이 된다.\n",
    "    - `git push origin master`\n",
    "- 이 명령은 Clone 한 리모트 저장소에 쓰기 권한이 있고, Clone 하고 난 이후 아무도 Upstream 저장소에 Push 하지 않았을 때만 사용할 수 있다. 다시 말해서 Clone 한 사람이 여러 명 있을 때, 다른 사람이 Push 한 후에 Push 하려고 하면 Push 할 수 없다. 먼저 다른 사람이 작업한 것을 가져와서 Merge 한 후에 Push 할 수 있다. "
   ]
  },
  {
   "cell_type": "markdown",
   "metadata": {},
   "source": [
    "## 원격 저장소 정보 보기\n",
    "- `git remote show <원격 저장소 이름>`\n",
    "\n",
    "```shell\n",
    "$ git remote show origin\n",
    "* remote origin\n",
    "  Fetch URL: https://github.com/schacon/ticgit\n",
    "  Push  URL: https://github.com/schacon/ticgit\n",
    "  HEAD branch: master\n",
    "  Remote branches:\n",
    "    master                               tracked\n",
    "    dev-branch                           tracked\n",
    "  Local branch configured for 'git pull':\n",
    "    master merges with remote master\n",
    "  Local ref configured for 'git push':\n",
    "    master pushes to master (up to date)\n",
    "```\n",
    "\n",
    "- 원격 저장소의 URL과 추적하는 branch를 출력한다. 이 명령은 git pull 명령을 실행할 때 master branch와 Merge할 branch가 무엇인지 보여준다. git pull 명령은 원격 저장소 branch의 데이터를 모두 가져오고 나서 자동으로 Merge할 것이다. "
   ]
  },
  {
   "cell_type": "markdown",
   "metadata": {
    "tags": []
   },
   "source": [
    "## 원격 저장소 이름 바꾸기, 삭제하기\n",
    "- `git remote rename <기존 원격 저장소 이름> <바꿀 원격 저장소 이름>`\n",
    "- `git remote remove <원격 저장소 이름>`"
   ]
  },
  {
   "cell_type": "markdown",
   "metadata": {},
   "source": [
    "# 다중 계정 사용\n",
    "## config 분리\n",
    "- 한 PC에서 업무용 repository 접근계정, 개인용 repository 접근계정을 분리해서 사용하고 싶을 때\n",
    "- 윈도우의 경우, C:\\Users\\{계정명} 에 .gitconfig가 존재한다.\n",
    "- .gitconfig에 아래 항목 추가\n",
    "```config\n",
    "[includeIf \"gitdir/i:C:/Code/limyj0708_code_archive/\"]\n",
    "    path = .gitconfig_personal.config\n",
    "```\n",
    "- C:/Code/limyj0708_code_archive/ 아래에 있는 repository에 접근 시에는, .gitconfig_personal.config의 정보를 사용하겠다는 의미이다.\n",
    "- C:\\Users\\{계정명} 에 .gitconfig_personal.config를 만들고, users 항목을 입력한다.\n",
    "```config\n",
    "[user]\n",
    "\temail = limyj0708@gmail.com\n",
    "\tname = limyj0708\n",
    "```\n",
    "- 확인해보면, 원하는 대로 잘 된다.\n",
    "```Bash\n",
    "$ git config --show-origin user.email\n",
    "file:C:/Users/limyj0708/.gitconfig_personal.config      limyj0708@gmail.com\n",
    "```\n",
    "\n",
    "## ssh_key 등록\n",
    "- ssh_key를 각각 분리해서 등록해주면, 원격 저장소에 push할 때 귀찮은 일이 없어진다.\n",
    "```\n",
    "> ssh-keygen\n",
    "Generating public/private rsa key pair.\n",
    "Enter file in which to save the key (C:\\Users\\limyj0708/.ssh/id_rsa):\n",
    "Enter passphrase (empty for no passphrase):\n",
    "Enter same passphrase again:\n",
    "Your identification has been saved in C:\\Users\\limyj0708/.ssh/id_rsa.\n",
    "Your public key has been saved in C:\\Users\\limyj0708/.ssh/id_rsa.pub.\n",
    "The key fingerprint is:\n",
    "```\n",
    "- passphrase는 [설정을 권장](https://docs.github.com/en/authentication/connecting-to-github-with-ssh/working-with-ssh-key-passphrases)하고 있으므로 설정해준다.\n",
    "- `C:\\Users\\limyj0708\\.ssh`에 가서, 공개키(pub)를 열고 내용을 복사하자.\n",
    "- github 계정 > Settings > SSH and GPG keys 메뉴로 이동\n",
    "  - SSH keys > New SSH key\n",
    "  - 공개키 내용을 붙여넣고, 적절히 이름을 붙여서 등록\n",
    "- `C:\\Users\\limyj0708\\.ssh\\config`에 내용을 추가하자.\n",
    "```Config\n",
    "Host github_personal\n",
    "  IdentityFile C:\\Users\\limyj0708\\.ssh\\{비밀키 파일명}\n",
    "  User git\n",
    "  HostName github.com\n",
    "```\n",
    "- 이후, 로컬 저장소에서 원격 저장소를 어떻게 등록해주면 되냐면...\n",
    "  - `git remote add origin git@github_personal:limyj0708/blog.git`\n",
    "    - git@github.com:limyj0708/blog.git에서, github.com 부분을 github_personal으로 바꿔 준 것이다.\n",
    "  - 이미 연결되어있던 원격 저장소가 있어서, 바꿔줘야 되는 상황이라면 미리 `git remote remove {저장소명}`을 해 주자.\n",
    "- 이제 원격 저장소로 push 할 때, passphrase만 잘 입력해 주면 추가 조치 없이 잘 진행된다.\n",
    "- 회사 계정은 github_work 등으로 추가할 수 있다."
   ]
  },
  {
   "cell_type": "code",
   "execution_count": null,
   "metadata": {},
   "outputs": [],
   "source": []
  }
 ],
 "metadata": {
  "kernelspec": {
   "display_name": "Python 3 (ipykernel)",
   "language": "python",
   "name": "python3"
  },
  "language_info": {
   "codemirror_mode": {
    "name": "ipython",
    "version": 3
   },
   "file_extension": ".py",
   "mimetype": "text/x-python",
   "name": "python",
   "nbconvert_exporter": "python",
   "pygments_lexer": "ipython3",
   "version": "3.11.2"
  },
  "widgets": {
   "application/vnd.jupyter.widget-state+json": {
    "state": {},
    "version_major": 2,
    "version_minor": 0
   }
  }
 },
 "nbformat": 4,
 "nbformat_minor": 4
}
