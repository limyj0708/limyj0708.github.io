{
 "cells": [
  {
   "cell_type": "markdown",
   "id": "aaf7d365-da06-4ed4-8e5c-64b6f4603e1b",
   "metadata": {},
   "source": [
    "---\n",
    "jupyter: Python3\n",
    "date: 2019-10-30\n",
    "title: Python_Decorator가 뭐지? with Scope, Namespace\n",
    "toc: true\n",
    "toc-depth: 3\n",
    "toc-expand: true\n",
    "number-sections: true\n",
    "categories: Python\n",
    "author: limyj0708\n",
    "comments:\n",
    "  giscus: \n",
    "    repo: limyj0708/blog\n",
    "---"
   ]
  },
  {
   "cell_type": "markdown",
   "id": "77d87c32-fe57-4735-a8ee-48c12568d3ad",
   "metadata": {},
   "source": [
    "## Decorator\n",
    "\n",
    "- Decorator : 오브젝트의 구조를 변경하지 않고 새 기능을 추가 할 수 있게 해 주는 디자인 패턴. Python에서는 @를 키워드로 사용한다.\n",
    "- Decorator의 간단한 예시와 실행결과를 보자."
   ]
  },
  {
   "cell_type": "code",
   "execution_count": 1,
   "id": "8c089fda-5b2d-4528-9955-7aa6a920460f",
   "metadata": {},
   "outputs": [],
   "source": [
    "def print_line(func): # Decorator가 될 함수\n",
    "    def wrapper_mine():\n",
    "        print('-'*30) # func의 사전작업이라 할 수 있다.\n",
    "        func()\n",
    "        print('#'*30) # func의 사후작업이라 할 수 있다.\n",
    "    return wrapper_mine # wrapper_mine을 호출한 게 아니고, 함수 객체를 그냥 반환한 거다."
   ]
  },
  {
   "cell_type": "code",
   "execution_count": 2,
   "id": "948d5293-00b4-4a34-8072-b4f3e19199cb",
   "metadata": {},
   "outputs": [
    {
     "name": "stdout",
     "output_type": "stream",
     "text": [
      "------------------------------\n",
      "my_function 실행\n",
      "##############################\n"
     ]
    }
   ],
   "source": [
    "def my_function():\n",
    "    print(\"my_function 실행\")\n",
    "\n",
    "m = print_line(my_function) # print_line에 직접 argument를 전달하여 실행해 보자\n",
    "m()\n"
   ]
  },
  {
   "cell_type": "code",
   "execution_count": 4,
   "id": "a5af9cb8-ff22-4b22-aa70-2b3646b8f0a1",
   "metadata": {},
   "outputs": [
    {
     "name": "stdout",
     "output_type": "stream",
     "text": [
      "------------------------------\n",
      "my_function2 실행2\n",
      "##############################\n"
     ]
    }
   ],
   "source": [
    "@print_line # decorator를 사용하자\n",
    "def my_function2():\n",
    "    print(\"my_function2 실행2\")\n",
    "\n",
    "my_function2()"
   ]
  },
  {
   "cell_type": "markdown",
   "id": "1e3f965d-5c22-4dee-9d37-3d2470504c6c",
   "metadata": {},
   "source": [
    "여기서 몇 가지 궁금한 점이 생긴다.\n",
    "1. function(여기서는 wrapper_mine)을 value처럼 막 return 하네?\n",
    "2. wrapper_mine이 어떻게 print_line의 argument에 접근할 수 있지?\n",
    "   - 그게 그냥 된대~ 하고 사용해 왔지만 정확한 철학을 알고 싶다\n",
    "\n",
    "일단 1번부터 알아 보자.\n",
    "왜 함수를 return이 가능하죠?"
   ]
  },
  {
   "cell_type": "markdown",
   "id": "b403b138-34f5-409c-8bb2-1af78490a3dc",
   "metadata": {},
   "source": [
    "---"
   ]
  },
  {
   "cell_type": "markdown",
   "id": "f7f19830-9086-4ee4-8034-3380548b2a3f",
   "metadata": {},
   "source": [
    "## First class citizen\n",
    "\n",
    "Wikipedia의 친절한 설명을 보자.\n",
    "Python first class citizen 이라고 검색하면 나오는 포스트들 다 여기서 내용 가져온 거다."
   ]
  },
  {
   "cell_type": "markdown",
   "id": "4475b9ed-6901-4bd0-b2ab-0e5d76b49b7c",
   "metadata": {},
   "source": [
    "- [Wikipedia - First-class citizen](https://en.wikipedia.org/wiki/First-class_citizen)\n",
    "  - In programming language design, a first-class citizen (also type, object, entity, or value) in a given programming language is an entity which supports all the operations generally available to other entities. These operations typically include being passed as an argument, returned from a function, modified, and assigned to a variable.\n",
    "  - First Class Citizen은 Argument로 넘기기, 함수에서 return되기, 조작되기, 변수에 할당되기와 같은, 다른 독립체들과 상호작용 할 수 있는 연산을 지원한다."
   ]
  },
  {
   "cell_type": "markdown",
   "id": "3c0a0423-9bbf-4e2a-88ea-9fa1df60f720",
   "metadata": {},
   "source": [
    "그리고 Python에서는 [함수도 first class object다.](https://dbader.org/blog/python-first-class-functions)\n",
    "\n",
    "**“function을 value처럼 막 return 하네?”** 해결. 그럼 다음 문제, wrapper_mine이 어떻게 print_line의 argument에 접근할 수 있지?"
   ]
  },
  {
   "cell_type": "markdown",
   "id": "853b3baf-97fa-4025-b185-3f0b0b776f5a",
   "metadata": {},
   "source": [
    "## Namespace, Scope - LEGB\n",
    "\n",
    "### [Namespace](https://docs.python.org/3/tutorial/classes.html#python-scopes-and-namespaces)\n",
    "- Namespace? : 객체와 이름이 매핑된 공간. 대부분의 네임스페이스는 딕셔너리로 적용된다.\n",
    "  - 네임스페이스의 예시\n",
    "    - built-in된 이름들 : abs()같은 함수명이나, 예외명들.\n",
    "    - 모듈 내의 전역 이름들 (global names in module)\n",
    "    - 함수 내의 지역 이름들 (local names)\n",
    "    - e.g) zzz.real과 ddd.real은 real이라는 attribute 이름은 같을지라도, 전혀 다른 네임스페이스에서 가져온 것이기 때문에 아무런 연관도 없다.\n",
    "  - 네임스페이스의 수명주기(lifetime)\n",
    "    - 각각 다른 시기에 생겨나며, 각각 다른 수명을 가짐\n",
    "    - built-in name을 보유한 네임스페이스는 인터프리터가 시작할 때 생겨나고, 인터프리터가 꺼질 때까지 사라지지 않음.\n",
    "    - 모듈의 글로벌 네임스페이스는 모듈의 정의가 읽혀질 때 생겨나며, 인터프리터가 꺼질 때까지 사라지지 않음.\n",
    "    - 함수의 지역 네임스페이스는 함수가 호출될 때 생겨나고, 함수가 결과를 반환하거나 함수 내부에서 처리되지 않는 에러를 내보낼 때 사라진다."
   ]
  },
  {
   "cell_type": "markdown",
   "id": "f81c0b54-ea27-4add-aa1b-54229b14021e",
   "metadata": {
    "tags": []
   },
   "source": [
    "### Scope\n",
    "- Scope? : 네임스페이스가 ‘직접 접근’할 수 있는 구문 영역. ‘직접 접근’이라는 건, unqualified reference(비-제한 참조라고 하면 좋을까?)로 네임스페이스 안의 이름을 찾을 수 있는 것을 말한다.\n",
    "  - unqualified reference? : someclass.target 처럼 ‘나 어디 있소’라고 someclass. 를 앞에 붙이지 않고, 바로 target으로 이름을 찾는 참조법.\n",
    "- LEGB : Python Scope 탐색 규칙\n",
    "  - Local : 함수 안에 정의된 이름 중 Global로 정의되지 않은 것\n",
    "  - Enclosing-function : 함수를 내포하고 있는 함수(enclosing function)의 영역 안에 있는 것\n",
    "  - Global (module) : 모듈 파일의 가장 상위 레벨에서 정의되었거나(어디 클래스나 함수 안에서 정의된 것 아니고) 함수 내부에서 global키워드로 실행된 것\n",
    "  - Built-in (Python) : Python에서 기본으로 정의하고 있는 것\n",
    "  \n",
    "아래 코드를 살펴보자."
   ]
  },
  {
   "cell_type": "code",
   "execution_count": 5,
   "id": "216f6ed9-3e36-49d2-8e12-bb848e746942",
   "metadata": {},
   "outputs": [
    {
     "name": "stdout",
     "output_type": "stream",
     "text": [
      "print global x1 : -1\n",
      "print local x1 : local x1\n",
      "print class body x2 : -2\n",
      "print enclosing x3 : -3\n",
      "print abs of x4 : 4\n",
      "foo\n"
     ]
    }
   ],
   "source": [
    "x1 = -1 # Global\n",
    "class spam:    \n",
    "    x2 = -2 # class body\n",
    "    def ham(self, bar):\n",
    "        # enclosing function\n",
    "        x3 = -3\n",
    "        print(f'print global x1 : {x1}') # global에서 받아옴\n",
    "        def egg():\n",
    "            x4 = -4\n",
    "            x1 = 'local x1'\n",
    "            print(f'print local x1 : {x1}') # local에서 정의된 x1을 먼저 받아옴\n",
    "            print(f'print class body x2 : {self.x2}') # class body에 정의된 객체를 가져오려면 self 키워드 필요.\n",
    "            # 여기서 그냥 x2로 가져오려고 하면, local에도 없고 enclosing에도 없으니\n",
    "            # global에서 찾게 된다 : print(f'print x2 : {x2}') 그리고 못 찾아서 에러를 낸다.\n",
    "            print(f'print enclosing x3 : {x3}') # enclosing function 영역에서 받아옴\n",
    "            print(f'print abs of x4 : {abs(x4)}') # Built-in에서 print, abs를 찾는다. local에서 x4를 찾는다.\n",
    "            print(bar) # enclosing-function의 argument를 받는다.\n",
    "        egg()\n",
    "\n",
    "spam = spam()\n",
    "spam.ham('foo')"
   ]
  },
  {
   "cell_type": "markdown",
   "id": "935004c2-3ac2-485f-8dda-a02e6adbe063",
   "metadata": {},
   "source": [
    "Class body 영역은 scope에서 enclosing-function도 아니고 global도 아닌 독특한 위치를 차지하고 있는데, [이 StackOverFlow 답변](https://stackoverflow.com/questions/291978/short-description-of-the-scoping-rules/23471004#23471004)을 참고하자.\n",
    "\n",
    "다시 원점으로 돌아오면,"
   ]
  },
  {
   "cell_type": "code",
   "execution_count": 6,
   "id": "de4c3d6e-ab0b-44d8-945d-55017ea9459f",
   "metadata": {},
   "outputs": [],
   "source": [
    "def print_line(func): # Decorator가 될 함수\n",
    "    def wrapper_mine():\n",
    "        print('-'*30) # func의 사전작업이라 할 수 있다.\n",
    "        func()\n",
    "        print('#'*30) # func의 사후작업이라 할 수 있다.\n",
    "    return wrapper_mine # wrapper_mine을 호출한 게 아니고, 함수 객체를 그냥 반환한 거다"
   ]
  },
  {
   "cell_type": "markdown",
   "id": "4ad713cf-27e2-4d79-af75-c4221a0cacde",
   "metadata": {},
   "source": [
    "**“wrapper_mine이 어떻게 print_line의 argument에 접근할 수 있지?”** 도 해결되었다."
   ]
  },
  {
   "cell_type": "markdown",
   "id": "3942a809-9a88-46bd-9511-db89d50a4ff6",
   "metadata": {},
   "source": [
    "## 어디다 쓰지?\n",
    "\n",
    "말 그대로, 이걸 어디다 쓸까? 간단한 예제를 살펴보자.\n",
    "\n",
    "코드 출처 : [https://khanrc.tistory.com/entry/decorator%EC%99%80-closure](https://khanrc.tistory.com/entry/decorator%EC%99%80-closure)"
   ]
  },
  {
   "cell_type": "code",
   "execution_count": 7,
   "id": "08b5d62d-b2a3-4af6-82b0-5f2049e658aa",
   "metadata": {},
   "outputs": [],
   "source": [
    "def verbose(func): \n",
    "    def new_func(*args, **kwargs):\n",
    "        print(\"Begin\", func.__name__)\n",
    "        func(*args, **kwargs)\n",
    "        print(\"End\", func.__name__)\n",
    "    return new_func"
   ]
  },
  {
   "cell_type": "markdown",
   "id": "b59ec5a5-de39-4480-8c25-899028873811",
   "metadata": {},
   "source": [
    "함수 호출의 시작과 끝을 print 출력으로 알리는 함수다. 아무 함수나 들어올 수 있게 parameter가 설정되어 있다."
   ]
  },
  {
   "cell_type": "code",
   "execution_count": 8,
   "id": "6655e44a-a56e-4b33-b8cf-92d934adcfba",
   "metadata": {},
   "outputs": [
    {
     "name": "stdout",
     "output_type": "stream",
     "text": [
      "Begin simple_sum\n",
      "3\n",
      "End simple_sum\n"
     ]
    }
   ],
   "source": [
    "@verbose\n",
    "def simple_sum(x,y):\n",
    "    print(x+y)\n",
    "    return x+y\n",
    "\n",
    "simple_sum(1,2)"
   ]
  },
  {
   "cell_type": "markdown",
   "id": "3e8d7f44-a46e-492b-bfb8-a13f156f226c",
   "metadata": {},
   "source": [
    "어떤 함수를 집어넣어도 호출 시에, 연산 끝났을 시에 함수 이름과 함께 알려주는 재미있는 Decorator다."
   ]
  },
  {
   "cell_type": "markdown",
   "id": "569f909f-7b27-4ee2-9d03-8ccb858e95a8",
   "metadata": {},
   "source": [
    "## Chaining Decorators in Python\n",
    "\n",
    "[이 글을 보다보니](https://www.programiz.com/python-programming/decorator), 재미있는 예제를 찾을 수 있었다. Decorator가 중첩되어 있으면 어떤 것 부터 적용될까?\n",
    "아래 코드를 보자."
   ]
  },
  {
   "cell_type": "code",
   "execution_count": 10,
   "id": "a7ed3d67-b724-4c9c-8e24-fb8f7fe525c9",
   "metadata": {},
   "outputs": [
    {
     "name": "stdout",
     "output_type": "stream",
     "text": [
      "******************************\n",
      "%%%%%%%%%%%%%%%%%%%%%%%%%%%%%%\n",
      "Hello\n",
      "%%%%%%%%%%%%%%%%%%%%%%%%%%%%%%\n",
      "******************************\n"
     ]
    }
   ],
   "source": [
    "def star(func):\n",
    "    def inner(*args, **kwargs):\n",
    "        print(\"*\" * 30)\n",
    "        func(*args, **kwargs)\n",
    "        print(\"*\" * 30)\n",
    "    return inner\n",
    "\n",
    "def percent(func):\n",
    "    def inner(*args, **kwargs):\n",
    "        print(\"%\" * 30)\n",
    "        func(*args, **kwargs)\n",
    "        print(\"%\" * 30)\n",
    "    return inner\n",
    "\n",
    "@star\n",
    "@percent\n",
    "def printer(msg):\n",
    "    print(msg)\n",
    "printer(\"Hello\")"
   ]
  },
  {
   "cell_type": "markdown",
   "id": "dfdab253-f694-4d88-b01e-c85794c5bef2",
   "metadata": {},
   "source": [
    "더 위쪽에 적혀진 Decorator부터 적용됨을 알 수 있다."
   ]
  },
  {
   "cell_type": "markdown",
   "id": "ce07dd42-fc65-4c6f-a052-627652828681",
   "metadata": {},
   "source": [
    "### Reference\n",
    "- [https://dbader.org/blog/python-first-class-functions](https://dbader.org/blog/python-first-class-functions)\n",
    "- [https://docs.python.org/3/tutorial/classes.html](https://docs.python.org/3/tutorial/classes.html)\n",
    "- [https://stackoverflow.com/questions/291978/short-description-of-the-scoping-rules](https://stackoverflow.com/questions/291978/short-description-of-the-scoping-rules)\n",
    "- [https://blog.mozilla.org/webdev/2011/01/31/python-scoping-understanding-legb/](https://blog.mozilla.org/webdev/2011/01/31/python-scoping-understanding-legb/)\n",
    "- [https://khanrc.tistory.com/entry/decorator%EC%99%80-closure](https://khanrc.tistory.com/entry/decorator%EC%99%80-closure)\n",
    "- [https://www.programiz.com/python-programming/decorator](https://www.programiz.com/python-programming/decorator)"
   ]
  }
 ],
 "metadata": {
  "kernelspec": {
   "display_name": "Python 3 (ipykernel)",
   "language": "python",
   "name": "python3"
  },
  "language_info": {
   "codemirror_mode": {
    "name": "ipython",
    "version": 3
   },
   "file_extension": ".py",
   "mimetype": "text/x-python",
   "name": "python",
   "nbconvert_exporter": "python",
   "pygments_lexer": "ipython3",
   "version": "3.11.2"
  },
  "widgets": {
   "application/vnd.jupyter.widget-state+json": {
    "state": {},
    "version_major": 2,
    "version_minor": 0
   }
  }
 },
 "nbformat": 4,
 "nbformat_minor": 5
}
