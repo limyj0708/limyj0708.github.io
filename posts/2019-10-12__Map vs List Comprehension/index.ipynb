{
 "cells": [
  {
   "cell_type": "markdown",
   "metadata": {},
   "source": [
    "---\n",
    "jupyter: python3\n",
    "toc: true\n",
    "toc-depth: 3\n",
    "toc-expand: true\n",
    "number-sections: true\n",
    "date: 2019-10-12\n",
    "author: limyj0708\n",
    "categories: [Python]\n",
    "comments:\n",
    "  giscus: \n",
    "    repo: limyj0708/blog\n",
    "---"
   ]
  },
  {
   "cell_type": "markdown",
   "metadata": {
    "jupyter": {
     "source_hidden": true
    },
    "tags": []
   },
   "source": [
    "# Map vs List Comprehension"
   ]
  },
  {
   "cell_type": "markdown",
   "metadata": {},
   "source": [
    "- [List comprehension vs Map](https://stackoverflow.com/questions/1247486/list-comprehension-vs-map)\n",
    "- 위의 Stack Overflow 질문에 아주 좋은 답변들이 달려 있어서, Upvote 상위 두 개 답변을 살펴보았다."
   ]
  },
  {
   "cell_type": "markdown",
   "metadata": {},
   "source": [
    "### 첫 번째 답변 :\n",
    "Map이 몇몇 경우에 아주 약간 더 빠르다. (lambda 안 쓰고, 같은 기능을 하는 함수를 사용할 경우)\n",
    "List Comprehension은 나머지 경우에서 더 빠르며, 대부분의 파이썬 사용자들은 List Comprehension이 더 직관적이고 명확하다고 생각한다.\n",
    "\n",
    "```Python\n",
    "# 터미널에서 아래와 같이 실행해보자\n",
    "\n",
    "$ python -mtimeit -s'xs=range(10)' 'map(hex, xs)'\n",
    "100000 loops, best of 3: 4.86 usec per loop\n",
    "# hex() -> 16진수로 변경\n",
    "\n",
    "$ python -mtimeit -s'xs=range(10)' '[hex(x) for x in xs]'\n",
    "100000 loops, best of 3: 5.58 usec per loop\n",
    "# 그냥 함수를 사용했더니, map이 근소하게 더 빠르다\n",
    "```\n",
    "하지만 lambda를 쓰면 어떨까?\n",
    "\n",
    "```Python\n",
    "$ python -mtimeit -s'xs=range(10)' 'map(lambda x: x+2, xs)'\n",
    "100000 loops, best of 3: 4.24 usec per loop\n",
    "$ python -mtimeit -s'xs=range(10)' '[x+2 for x in xs]'\n",
    "100000 loops, best of 3: 2.32 usec per loop\n",
    "\n",
    "# 속도가 정 반대가 되었다.\n",
    "```"
   ]
  },
  {
   "cell_type": "markdown",
   "metadata": {},
   "source": [
    "### 두 번째 답변의 일부 발췌 :\n",
    "**Laziness**\n",
    "\n",
    "Python에서 Map은 **게으르다**.<br>\n",
    "무슨 말인고 하니, 계산 결과 전체를 반환하는 것이 아니라,\n",
    "계산 로직을 보관하고 있다가 값 요청이 왔을 때 계산하여 값을 제공해준다는 것이다.\n",
    "\n",
    "```Python\n",
    ">>> map(str, range(10**100))\n",
    "<map object at 0x2201d50>\n",
    "# 리스트가 아니다\n",
    "```\n",
    "\n",
    "List Comprehension이라면 전체 계산결과 리스트를 반환한다. (Not lazy)\n",
    "\n",
    "```Python\n",
    ">>> [str(n) for n in range(10**100)]\n",
    "# 이런 짓 하지 말라는 것이다.\n",
    "# DO NOT TRY THIS AT HOME OR YOU WILL BE SAD #\n",
    "```\n",
    "\n",
    "'게으른' List Comprehension도 Generator expression의 형태로 지원한다.\n",
    "\n",
    "```Python\n",
    ">>> (str(n) for n in range(10**100))\n",
    "<generator object <genexpr> at 0xacbdef>\n",
    "```"
   ]
  }
 ],
 "metadata": {
  "kernelspec": {
   "display_name": "Python 3 (ipykernel)",
   "language": "python",
   "name": "python3"
  },
  "language_info": {
   "codemirror_mode": {
    "name": "ipython",
    "version": 3
   },
   "file_extension": ".py",
   "mimetype": "text/x-python",
   "name": "python",
   "nbconvert_exporter": "python",
   "pygments_lexer": "ipython3",
   "version": "3.11.2"
  },
  "widgets": {
   "application/vnd.jupyter.widget-state+json": {
    "state": {},
    "version_major": 2,
    "version_minor": 0
   }
  }
 },
 "nbformat": 4,
 "nbformat_minor": 4
}
