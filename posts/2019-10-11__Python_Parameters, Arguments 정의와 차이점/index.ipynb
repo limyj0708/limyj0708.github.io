{
 "cells": [
  {
   "cell_type": "markdown",
   "id": "e96d3fc6-ff4a-402e-b1a5-d06d07c6644c",
   "metadata": {},
   "source": [
    "---\n",
    "jupyter: Python3\n",
    "toc: true\n",
    "toc-depth: 3\n",
    "toc-expand: true\n",
    "number-sections: true\n",
    "comments:\n",
    "  giscus: \n",
    "    repo: limyj0708/blog\n",
    "format:\n",
    "    html:\n",
    "        page-layout: article\n",
    "author: limyj0708\n",
    "date: 2019-10-11 00:00\n",
    "title: Python_Parameters, Arguments 정의와 차이점\n",
    "categories: Python\n",
    "---"
   ]
  },
  {
   "cell_type": "markdown",
   "id": "81fc27f6-cec1-4f62-a07c-f8e836b7ecdb",
   "metadata": {},
   "source": [
    "Parameters are defined by the names that appear in a function definition, whereas arguments are the values actually passed to a function when calling it. Parameters define what types of arguments a function can accept. For example, given the function definition:"
   ]
  },
  {
   "cell_type": "code",
   "execution_count": 1,
   "id": "14cf1e9e-ff6d-4689-8198-bfbe1b9e084f",
   "metadata": {},
   "outputs": [],
   "source": [
    "def func(foo, bar=None, **kwargs):\n",
    "    pass"
   ]
  },
  {
   "cell_type": "markdown",
   "id": "2e7500d9-777c-48fd-b453-3a00f17ff819",
   "metadata": {},
   "source": [
    "foo, bar and kwargs are parameters of func. However, when calling func, for example:"
   ]
  },
  {
   "cell_type": "code",
   "execution_count": null,
   "id": "3c3b755e-e93f-404a-a2fd-8a0acfe168fe",
   "metadata": {},
   "outputs": [],
   "source": [
    "func(42, bar=314, extra=somevar)"
   ]
  },
  {
   "cell_type": "markdown",
   "id": "1075c506-9462-49a6-94c7-6ae030c880ea",
   "metadata": {},
   "source": [
    "the values 42, 314, and somevar are argument\n",
    "\n",
    "[Python FAQ](https://docs.python.org/3/faq/programming.html#what-is-the-difference-between-arguments-and-parameters)"
   ]
  },
  {
   "cell_type": "markdown",
   "id": "ece4f7d9-c3ab-48c8-aaf4-7e650b71c3ac",
   "metadata": {},
   "source": [
    "Parameter와 Argument의 차이는 알았다.\n",
    "그럼 각각의 자세한 정의는 어떻게 될까?"
   ]
  },
  {
   "cell_type": "markdown",
   "id": "94e6949d-fcba-4ac4-a723-b2b83a81ac0d",
   "metadata": {},
   "source": [
    "# parameter\n",
    "- [Glossary > Parameter](https://docs.python.org/3/glossary.html#term-parameter)\n",
    "- A named entity in a function (or method) definition that specifies an argument (or in some cases, arguments) that the function can accept. There are five kinds of parameter:\n",
    "\n",
    "- **positional-or-keyword**: specifies an argument that can be passed either positionally or as a keyword argument. This is the default kind of parameter, for example foo and bar in the following:"
   ]
  },
  {
   "cell_type": "code",
   "execution_count": null,
   "id": "e71be24a-8b92-46ca-997f-b8dccf53eff3",
   "metadata": {},
   "outputs": [],
   "source": [
    "def func(foo, bar=None): ..."
   ]
  },
  {
   "cell_type": "markdown",
   "id": "889917fa-8a57-4e28-b505-9141806e8cd2",
   "metadata": {},
   "source": [
    "두 형태로 다 받아도 상관이 없는 형태의 예시"
   ]
  },
  {
   "cell_type": "code",
   "execution_count": 3,
   "id": "0ec8601c-21d9-42ed-825d-a94d62f0039e",
   "metadata": {},
   "outputs": [
    {
     "name": "stdout",
     "output_type": "stream",
     "text": [
      "3\n",
      "3\n"
     ]
    }
   ],
   "source": [
    "def sum(a, b=10):\n",
    "    print(a+b)\n",
    "sum(1,2)\n",
    "sum(1,b=2)\n",
    "# 출력값은 둘 다 3으로 잘 나온다.\n",
    "# b는 keyword parameter지만, positional처럼 값을 넣어도 잘 작동한다."
   ]
  },
  {
   "cell_type": "markdown",
   "id": "b484eed6-326a-4529-a246-de813ebb26db",
   "metadata": {},
   "source": [
    "- **positional-only**: specifies an argument that can be supplied only by position. Python has no syntax for defining positional-only parameters. However, some built-in functions have positional-only parameters (e.g. abs()).\n",
    "\n",
    "- abs()에 keyword argument를 넣으려고 하면, 시원하게 에러가 뜬다."
   ]
  },
  {
   "cell_type": "code",
   "execution_count": 4,
   "id": "537b73fe-7b5b-47b9-a591-1ccbf943035a",
   "metadata": {},
   "outputs": [
    {
     "ename": "TypeError",
     "evalue": "abs() takes no keyword arguments",
     "output_type": "error",
     "traceback": [
      "\u001b[0;31m---------------------------------------------------------------------------\u001b[0m",
      "\u001b[0;31mTypeError\u001b[0m                                 Traceback (most recent call last)",
      "Input \u001b[0;32mIn [4]\u001b[0m, in \u001b[0;36m<cell line: 1>\u001b[0;34m()\u001b[0m\n\u001b[0;32m----> 1\u001b[0m \u001b[38;5;28;43mabs\u001b[39;49m\u001b[43m(\u001b[49m\u001b[43mfoo\u001b[49m\u001b[38;5;241;43m=\u001b[39;49m\u001b[38;5;241;43m10\u001b[39;49m\u001b[43m)\u001b[49m\n",
      "\u001b[0;31mTypeError\u001b[0m: abs() takes no keyword arguments"
     ]
    }
   ],
   "source": [
    "abs(foo=10)"
   ]
  },
  {
   "cell_type": "markdown",
   "id": "7a41763a-6566-4ec4-b490-c030cbfc356f",
   "metadata": {},
   "source": [
    "- **keyword-only**: specifies an argument that can be supplied only by keyword. Keyword-only parameters can be defined by including a single var-positional parameter or bare * in the parameter list of the function definition before them, for example kw_only1 and kw_only2 in the following:"
   ]
  },
  {
   "cell_type": "code",
   "execution_count": null,
   "id": "5c82b47d-f58b-49e8-8a6b-1ed95b1f7ba6",
   "metadata": {},
   "outputs": [],
   "source": [
    "def func(*arg, *, kw_only1, kw_only2): ..."
   ]
  },
  {
   "cell_type": "markdown",
   "id": "b63730e0-97ee-4912-9ac9-6ecdcec0c275",
   "metadata": {},
   "source": [
    "1. 단일 Asterisk 뒤에 오는 parameter들은 무조건 keyword parameter여야 한다. [PEP-3102](https://peps.python.org/pep-3102/#specification)\n",
    "2. var-positional parameter 뒤에 오는 parameter들은 무조건 keyword parameter여야 한다."
   ]
  },
  {
   "cell_type": "code",
   "execution_count": 5,
   "id": "4849865c-6929-4cc9-9735-28b2621bc7c5",
   "metadata": {},
   "outputs": [
    {
     "ename": "SyntaxError",
     "evalue": "positional argument follows keyword argument (4141133395.py, line 3)",
     "output_type": "error",
     "traceback": [
      "\u001b[0;36m  Input \u001b[0;32mIn [5]\u001b[0;36m\u001b[0m\n\u001b[0;31m    print1(3,4,kw_only1=1, kw_only2=2, 3)\u001b[0m\n\u001b[0m                                        ^\u001b[0m\n\u001b[0;31mSyntaxError\u001b[0m\u001b[0;31m:\u001b[0m positional argument follows keyword argument\n"
     ]
    }
   ],
   "source": [
    "def print1(a, b, *, kw_only1=None, kw_only2=None, positional):\n",
    "    return print(a,b,kw_only1, kw_only2, positional)\n",
    "\n",
    "print1(3,4,kw_only1=1, kw_only2=2, 3)\n",
    "# 장렬한 에러 메세지"
   ]
  },
  {
   "cell_type": "markdown",
   "id": "807d9305-8830-4a09-81ec-79516a58108a",
   "metadata": {},
   "source": [
    "- **var-positional**: specifies that an arbitrary sequence of positional arguments can be provided (in addition to any positional arguments already accepted by other parameters). Such a parameter can be defined by prepending the parameter name with *, for example args in the following:"
   ]
  },
  {
   "cell_type": "code",
   "execution_count": null,
   "id": "4e3f1e27-68f9-4f80-87ea-4d4f81999b79",
   "metadata": {},
   "outputs": [],
   "source": [
    "def func(*args, **kwargs): ..."
   ]
  },
  {
   "cell_type": "markdown",
   "id": "635529d2-16f8-4f78-bd12-48af7bec7a32",
   "metadata": {},
   "source": [
    "- **var-keyword**: specifies that arbitrarily many keyword arguments can be provided (in addition to any keyword arguments already accepted by other parameters). Such a parameter can be defined by prepending the parameter name with, for example kwargs in the example above. Parameters can specify both optional and required arguments, as well as default values for some optional arguments."
   ]
  },
  {
   "cell_type": "markdown",
   "id": "66061d91-6de0-452d-b848-c8a16edfc57d",
   "metadata": {},
   "source": [
    "직접 임의의(arbitrary) argument들을 마음껏 넣어보자."
   ]
  },
  {
   "cell_type": "code",
   "execution_count": 6,
   "id": "5f9d9a2d-d8ff-4af7-a4f9-4c5165b2ff70",
   "metadata": {},
   "outputs": [
    {
     "name": "stdout",
     "output_type": "stream",
     "text": [
      "(1, 2, 3, 4, 5)\n",
      "{'kw1': 'a', 'kw2': 'b', 'kw3': 'hoho'}\n"
     ]
    }
   ],
   "source": [
    "def print1(*args, **kwargs):\n",
    "    print(args)\n",
    "    print(kwargs)\n",
    "\n",
    "print1(1,2,3,4,5, kw1='a', kw2='b', kw3='hoho')"
   ]
  },
  {
   "cell_type": "markdown",
   "id": "3b69fe80-d42d-4e2d-bebc-20e9616ed24f",
   "metadata": {},
   "source": [
    "See also the argument glossary entry, the FAQ question on the difference between arguments and parameters, the inspect.Parameter class, the Function definitions section, and PEP 362."
   ]
  },
  {
   "cell_type": "markdown",
   "id": "8c1749f2-1ff2-430e-8d54-18b611879e08",
   "metadata": {},
   "source": [
    "# argument\n",
    "\n",
    "- [Glossary > Argument](https://docs.python.org/3/glossary.html#term-argument)\n",
    "\n",
    "A value passed to a function (or method) when calling the function.\n",
    "There are two kinds of argument:\n",
    "\n"
   ]
  },
  {
   "cell_type": "markdown",
   "id": "d1c286bd-89d2-4386-a2d9-bfa1b5e0df5b",
   "metadata": {},
   "source": [
    "- **keyword argument**: an argument preceded by an identifier (e.g. name=) in a function call or passed as a value in a dictionary preceded by **. For example, 3 and 5 are both keyword arguments in the following calls to complex():"
   ]
  },
  {
   "cell_type": "code",
   "execution_count": 7,
   "id": "0f137041-978b-48ba-b1dd-6a515fbf9aff",
   "metadata": {},
   "outputs": [
    {
     "data": {
      "text/plain": [
       "(3+5j)"
      ]
     },
     "execution_count": 7,
     "metadata": {},
     "output_type": "execute_result"
    }
   ],
   "source": [
    "complex(real=3, imag=5)\n",
    "complex(**{'real': 3, 'imag': 5})\n",
    "# 복소수를 출력하는 함수. 출력값은 (3+5j) 가 된다.\n",
    "# Asterisk가 data structure를 해체하여 전달하는 역할을 하는데, \n",
    "# 자세한 내용은 다른 포스트에서 다뤄보자."
   ]
  },
  {
   "cell_type": "markdown",
   "id": "35462d09-b45d-4bfe-a744-9f342bffd829",
   "metadata": {},
   "source": [
    "- **positional argument**: an argument that is not a keyword argument. Positional arguments can appear at the beginning of an argument list and/or be passed as elements of an iterable preceded by *. For example, 3 and 5 are both positional arguments in the following calls:"
   ]
  },
  {
   "cell_type": "code",
   "execution_count": 9,
   "id": "4db90867-8795-4fee-84de-6b82f0401d52",
   "metadata": {},
   "outputs": [
    {
     "data": {
      "text/plain": [
       "(3+5j)"
      ]
     },
     "execution_count": 9,
     "metadata": {},
     "output_type": "execute_result"
    }
   ],
   "source": [
    "complex(3, 5)"
   ]
  },
  {
   "cell_type": "code",
   "execution_count": 10,
   "id": "d6c2f464-b384-4e53-95c6-5c00a901562a",
   "metadata": {},
   "outputs": [
    {
     "data": {
      "text/plain": [
       "(3+5j)"
      ]
     },
     "execution_count": 10,
     "metadata": {},
     "output_type": "execute_result"
    }
   ],
   "source": [
    "complex(*(3, 5))"
   ]
  },
  {
   "cell_type": "markdown",
   "id": "9ca7fb3c-52ae-4ca9-95a3-265706c7a9d4",
   "metadata": {},
   "source": [
    "Arguments are assigned to the named local variables in a function body. See the Calls section for the rules governing this assignment. Syntactically, any expression can be used to represent an argument; the evaluated value is assigned to the local variable.\n",
    "\n",
    "See also the parameter glossary entry, the FAQ question on the difference between arguments and parameters, and PEP 362."
   ]
  }
 ],
 "metadata": {
  "kernelspec": {
   "display_name": "Python 3 (ipykernel)",
   "language": "python",
   "name": "python3"
  },
  "language_info": {
   "codemirror_mode": {
    "name": "ipython",
    "version": 3
   },
   "file_extension": ".py",
   "mimetype": "text/x-python",
   "name": "python",
   "nbconvert_exporter": "python",
   "pygments_lexer": "ipython3",
   "version": "3.11.2"
  },
  "widgets": {
   "application/vnd.jupyter.widget-state+json": {
    "state": {},
    "version_major": 2,
    "version_minor": 0
   }
  }
 },
 "nbformat": 4,
 "nbformat_minor": 5
}
