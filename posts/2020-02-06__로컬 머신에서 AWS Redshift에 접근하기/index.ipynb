{
 "cells": [
  {
   "cell_type": "markdown",
   "id": "94891a97-fd45-416d-8ce2-c548a433eaf4",
   "metadata": {
    "tags": []
   },
   "source": [
    "---\n",
    "title: 로컬 머신에서 AWS Redshift에 접근하기\n",
    "date: 2020-02-06\n",
    "toc: true\n",
    "toc-depth: 3\n",
    "toc-expand: true\n",
    "number-sections: true\n",
    "category: 학습_정리\n",
    "author: limyj0708\n",
    "comments:\n",
    "  giscus: \n",
    "    repo: limyj0708/blog\n",
    "---"
   ]
  },
  {
   "cell_type": "markdown",
   "id": "6410c944-f5ec-4435-9ddb-23fa582fa134",
   "metadata": {},
   "source": [
    "Redshift [공식 메뉴얼](https://docs.aws.amazon.com/ko_kr/redshift/index.html)에서 명료하게 설명하지 않았거나, 없는 내용에 대한 정리이다.\n",
    "\n",
    "## 1. Virtual Private Cloud(VPC) 보안 그룹 설정\n",
    "* [VPC](https://docs.aws.amazon.com/ko_kr/vpc/latest/userguide/what-is-amazon-vpc.html)의 보안 그룹 설정이 필요하다.\n",
    "* 클러스터 선택 -> 속성 -> 네트워크 및 보안 -> VPC 보안 그룹 메뉴로\n",
    "* Inbound 설정에서, 유형 Redshift, 연결을 원하는 머신의 IP를 Source로 설정하자.\n",
    "\n",
    "## 2. \"공개적으로 액세스 할 수 있음\" 설정\n",
    "* 너무 간단한 내용이지만, 메뉴얼에 없었다...\n",
    "* 클러스터 선택 -> 속성 -> 네트워크 및 보안 -> 공개적으로 액세스 할 수 있음 메뉴에서 '예'로 바꿔주면 된다.\n",
    "\n",
    "## 3. TablePlus에서 연결하기\n",
    "* Mac용 SQL 클라이언트 중에서는 TablePlus가 제일 좋은 것 같다.\n",
    "* 클러스터 Endpoint는 이런 구조다.\n",
    "    * CLUSTER-NAME.CLUSTER-KEY.CLUSTER-REGION.redshift.amazonaws.com:PORT/DATABASE-NAME\n",
    "* Host에 입력할 값\n",
    "    * CLUSTER-NAME.CLUSTER-KEY.CLUSTER-REGION.redshift.amazonaws.com\n",
    "* Port, User, Password, Database는 설정했던 값을 입력\n",
    "* 나머지 옵션은 조절하지 않아도 됨\n",
    "\n",
    "## 4. psycopg2에서 연결하기\n",
    "* 간단해서 코드로 대신함\n",
    "```Python\n",
    "import psycopg2\n",
    "dbname='YOUR-DB-NAME' # 최초의 기본 db명은 dev\n",
    "host='CLUSTER-NAME.CLUESTER-KEY.CLUESTER-REGION.redshift.amazonaws.com'\n",
    "port=5439\n",
    "user='USER-NAME'\n",
    "password='********'\n",
    "con=psycopg2.connect(dbname=dbname, host=host, port=port, user=user, password=password)\n",
    "cur = con.cursor()\n",
    "```\n",
    "\n",
    "* 매번 connect, cursor를 닫기 번거로우니 with 구문을 사용하자.\n",
    "\n",
    "```Python\n",
    "dbname='YOUR-DB-NAME' # 최초의 기본 db명은 dev\n",
    "host='CLUSTER-NAME.CLUESTER-KEY.CLUESTER-REGION.redshift.amazonaws.com'\n",
    "port=5439\n",
    "user='USER-NAME'\n",
    "password='********'\n",
    "connect_param = dict({'dbname':dbname, 'host':host, 'port':port, 'user':user, 'password':password})\n",
    "\n",
    "with psycopg2.connect(**connect_param) as con:\n",
    "    with con.cursor() as cur:\n",
    "        do something\n",
    "```"
   ]
  }
 ],
 "metadata": {
  "kernelspec": {
   "display_name": "Python 3 (ipykernel)",
   "language": "python",
   "name": "python3"
  },
  "language_info": {
   "codemirror_mode": {
    "name": "ipython",
    "version": 3
   },
   "file_extension": ".py",
   "mimetype": "text/x-python",
   "name": "python",
   "nbconvert_exporter": "python",
   "pygments_lexer": "ipython3",
   "version": "3.11.2"
  },
  "widgets": {
   "application/vnd.jupyter.widget-state+json": {
    "state": {},
    "version_major": 2,
    "version_minor": 0
   }
  }
 },
 "nbformat": 4,
 "nbformat_minor": 5
}
