{
 "cells": [
  {
   "cell_type": "markdown",
   "metadata": {},
   "source": [
    "---\n",
    "jupyter: python3\n",
    "toc: true\n",
    "toc-depth: 3\n",
    "toc-expand: true\n",
    "number-sections: true\n",
    "title: Python 스크립트 Console 유저 입력 받기\n",
    "date: 2021-11-08\n",
    "categories: [Python]\n",
    "author: limyj0708\n",
    "comments:\n",
    "  giscus: \n",
    "    repo: limyj0708/blog\n",
    "---"
   ]
  },
  {
   "cell_type": "markdown",
   "metadata": {},
   "source": [
    "* Python 스크립트를 실행 시, Console 창에서 유저의 입력을 받으려면?"
   ]
  },
  {
   "cell_type": "code",
   "execution_count": 1,
   "metadata": {},
   "outputs": [
    {
     "name": "stdout",
     "output_type": "stream",
     "text": [
      "아무거나 입력하세요 :  맛있는 거 먹고 싶다\n"
     ]
    },
    {
     "name": "stdout",
     "output_type": "stream",
     "text": [
      "메아리 : 맛있는 거 먹고 싶다\n"
     ]
    }
   ],
   "source": [
    "text = input(\"아무거나 입력하세요 : \")\n",
    "print(f\"메아리 : {text}\")"
   ]
  },
  {
   "cell_type": "markdown",
   "metadata": {},
   "source": [
    "* 입력되는 값은 기본적으로 string이다."
   ]
  },
  {
   "cell_type": "code",
   "execution_count": 8,
   "metadata": {},
   "outputs": [
    {
     "name": "stdout",
     "output_type": "stream",
     "text": [
      "아무거나 입력하세요1 :  1\n",
      "아무거나 입력하세요2 :  2\n"
     ]
    },
    {
     "name": "stdout",
     "output_type": "stream",
     "text": [
      "메아리 : 12\n",
      "<class 'str'>\n"
     ]
    }
   ],
   "source": [
    "text1 = input(\"아무거나 입력하세요1 : \")\n",
    "text2 = input(\"아무거나 입력하세요2 : \")\n",
    "print(f\"메아리 : {text1 + text2}\")\n",
    "print(type(text1))"
   ]
  },
  {
   "cell_type": "markdown",
   "metadata": {},
   "source": [
    "* 다른 자료형으로 쓰려면 형변환을 해야 함"
   ]
  },
  {
   "cell_type": "code",
   "execution_count": 7,
   "metadata": {},
   "outputs": [
    {
     "name": "stdout",
     "output_type": "stream",
     "text": [
      "아무거나 입력하세요1 :  1\n",
      "아무거나 입력하세요2 :  2\n"
     ]
    },
    {
     "name": "stdout",
     "output_type": "stream",
     "text": [
      "메아리 : 3\n"
     ]
    }
   ],
   "source": [
    "int1 = int(input(\"아무거나 입력하세요1 : \"))\n",
    "int2 = int(input(\"아무거나 입력하세요2 : \"))\n",
    "print(f\"메아리 : {int1 + int2}\")"
   ]
  },
  {
   "cell_type": "markdown",
   "metadata": {},
   "source": [
    "* 유저가 잘못된 값을 입력할 때를 대비한 예외처리"
   ]
  },
  {
   "cell_type": "code",
   "execution_count": 9,
   "metadata": {},
   "outputs": [
    {
     "name": "stdout",
     "output_type": "stream",
     "text": [
      "숫자를 입력하세요:  커피\n"
     ]
    },
    {
     "name": "stdout",
     "output_type": "stream",
     "text": [
      "숫자를 넣으라니까?\n"
     ]
    }
   ],
   "source": [
    "try:\n",
    "    num = int(input('숫자를 입력하세요: '))\n",
    "    print('입력하신 숫자는 : ', num)\n",
    "\n",
    "except ValueError:\n",
    "    print('숫자를 넣으라니까?')"
   ]
  },
  {
   "cell_type": "markdown",
   "metadata": {},
   "source": [
    "* 올바른 값을 입력할 때까지 작동하는 예외처리 루프"
   ]
  },
  {
   "cell_type": "code",
   "execution_count": 10,
   "metadata": {},
   "outputs": [
    {
     "name": "stdout",
     "output_type": "stream",
     "text": [
      "숫자를 입력하세요:  커피\n"
     ]
    },
    {
     "name": "stdout",
     "output_type": "stream",
     "text": [
      "숫자를 넣으라니까?\n"
     ]
    },
    {
     "name": "stdout",
     "output_type": "stream",
     "text": [
      "숫자를 입력하세요:  라떼\n"
     ]
    },
    {
     "name": "stdout",
     "output_type": "stream",
     "text": [
      "숫자를 넣으라니까?\n"
     ]
    },
    {
     "name": "stdout",
     "output_type": "stream",
     "text": [
      "숫자를 입력하세요:  오미자\n"
     ]
    },
    {
     "name": "stdout",
     "output_type": "stream",
     "text": [
      "숫자를 넣으라니까?\n"
     ]
    },
    {
     "name": "stdout",
     "output_type": "stream",
     "text": [
      "숫자를 입력하세요:  11\n"
     ]
    },
    {
     "name": "stdout",
     "output_type": "stream",
     "text": [
      "입력하신 숫자는 :  11\n"
     ]
    }
   ],
   "source": [
    "while True:\n",
    "    try:\n",
    "        num = int(input('숫자를 입력하세요: '))\n",
    "        print('입력하신 숫자는 : ', num)\n",
    "        break\n",
    "\n",
    "    except ValueError:\n",
    "        print('숫자를 넣으라니까?')"
   ]
  },
  {
   "cell_type": "markdown",
   "metadata": {},
   "source": [
    "* 한 줄에 여러 값 입력받기"
   ]
  },
  {
   "cell_type": "code",
   "execution_count": 12,
   "metadata": {},
   "outputs": [
    {
     "name": "stdout",
     "output_type": "stream",
     "text": [
      "이름, 나이, 직급을 입력하세요. 홍길돌 35 과장\n"
     ]
    },
    {
     "name": "stdout",
     "output_type": "stream",
     "text": [
      "이름 : 홍길돌\n",
      "나이 : 35\n",
      "직급 : 과장\n"
     ]
    }
   ],
   "source": [
    "name, age, position = input(\"이름, 나이, 직급을 입력하세요.\").split() \n",
    "    # 입력값을 쪼갬, 입력값은 스페이스로 구분되어야 함\n",
    "print(\"이름 :\", name)\n",
    "print(\"나이 :\", age)\n",
    "print(\"직급 :\", position)"
   ]
  },
  {
   "cell_type": "markdown",
   "metadata": {},
   "source": [
    "* 리스트를 입력받는다면"
   ]
  },
  {
   "cell_type": "code",
   "execution_count": 14,
   "metadata": {},
   "outputs": [
    {
     "name": "stdout",
     "output_type": "stream",
     "text": [
      "직원들의 나이를 입력하세요 :  24 45 34 37 33 29\n"
     ]
    },
    {
     "name": "stdout",
     "output_type": "stream",
     "text": [
      "직원들이 나이 리스트_문자열 :  ['24', '45', '34', '37', '33', '29']\n",
      "직원들의 나이 리스트_숫자변환:  [24, 45, 34, 37, 33, 29]\n",
      "평균 나이: 33.666666666666664\n"
     ]
    }
   ],
   "source": [
    "entered_list = input(\"직원들의 나이를 입력하세요 : \").split()\n",
    "print('직원들이 나이 리스트_문자열 : ',entered_list)\n",
    "\n",
    "num_list = list(map(int,entered_list))\n",
    "    # map 함수로 리스트의 모든 원소에 대해 int 형변환 시행\n",
    "print('직원들의 나이 리스트_숫자변환: ',num_list)\n",
    "print('평균 나이:', sum(num_list)/len(num_list))"
   ]
  },
  {
   "cell_type": "markdown",
   "metadata": {},
   "source": [
    "* 여러 줄로 입력받기"
   ]
  },
  {
   "cell_type": "code",
   "execution_count": 16,
   "metadata": {},
   "outputs": [
    {
     "name": "stdout",
     "output_type": "stream",
     "text": [
      "직원들의 이름을 쓰세요 : \n"
     ]
    },
    {
     "name": "stdout",
     "output_type": "stream",
     "text": [
      " 홍길동\n",
      " 둘리\n",
      " 마이콜\n",
      " \n"
     ]
    },
    {
     "name": "stdout",
     "output_type": "stream",
     "text": [
      "입력된 직원들의 이름 목록 :\n",
      "['홍길동', '둘리', '마이콜']\n"
     ]
    }
   ],
   "source": [
    "total_input = []\n",
    "print(\"직원들의 이름을 쓰세요 : \")\n",
    "\n",
    "while True:\n",
    "    name = input()\n",
    "    if name:\n",
    "        total_input.append(name)\n",
    "    else:\n",
    "        break\n",
    "        # 아무것도 입력하지 않고 엔터를 누르면 if문에서 false로 처리되어\n",
    "        # break를 만나게 됨\n",
    "\n",
    "print('입력된 직원들의 이름 목록 :')\n",
    "print(total_input)"
   ]
  }
 ],
 "metadata": {
  "kernelspec": {
   "display_name": "Python 3 (ipykernel)",
   "language": "python",
   "name": "python3"
  },
  "language_info": {
   "codemirror_mode": {
    "name": "ipython",
    "version": 3
   },
   "file_extension": ".py",
   "mimetype": "text/x-python",
   "name": "python",
   "nbconvert_exporter": "python",
   "pygments_lexer": "ipython3",
   "version": "3.11.2"
  },
  "widgets": {
   "application/vnd.jupyter.widget-state+json": {
    "state": {},
    "version_major": 2,
    "version_minor": 0
   }
  }
 },
 "nbformat": 4,
 "nbformat_minor": 4
}
