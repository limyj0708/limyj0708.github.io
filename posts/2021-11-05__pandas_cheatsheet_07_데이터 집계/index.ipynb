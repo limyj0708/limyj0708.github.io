{
 "cells": [
  {
   "cell_type": "markdown",
   "id": "467bff37-bced-4632-bf28-e995f9bc7b36",
   "metadata": {
    "tags": []
   },
   "source": [
    "---\n",
    "jupyter: python3\n",
    "toc: true\n",
    "toc-depth: 3\n",
    "toc-expand: true\n",
    "number-sections: true\n",
    "title: Pandas_07_데이터 집계\n",
    "date: 2021-11-05 00:07\n",
    "categories: pandas\n",
    "author: limyj0708\n",
    "comments:\n",
    "  giscus:\n",
    "    repo: limyj0708/blog\n",
    "format:\n",
    "    html:\n",
    "        page-layout: full\n",
    "---"
   ]
  },
  {
   "cell_type": "code",
   "execution_count": 1,
   "id": "d3dd94f9-d5df-4ca1-81fd-8a6a736555d4",
   "metadata": {
    "tags": []
   },
   "outputs": [],
   "source": [
    "import pandas as pd\n",
    "import numpy as np\n",
    "import copy\n",
    "from IPython.display import display_html, display"
   ]
  },
  {
   "cell_type": "code",
   "execution_count": 2,
   "id": "4281b5ba-d3c0-4063-a0a1-775dfa6ff742",
   "metadata": {
    "tags": []
   },
   "outputs": [],
   "source": [
    "def display_multiple_dfs(dfs:list, styles, margin=10):\n",
    "    display_target = ''\n",
    "    for each_df in dfs:\n",
    "        each_df_html = each_df[0].style.set_caption(f'<b>{each_df[1]}</b>').set_table_styles(styles).set_table_attributes(f\"style='display:inline;margin:{margin}px'\")._repr_html_()\n",
    "        display_target += each_df_html\n",
    "    display_html(display_target, raw = True)"
   ]
  },
  {
   "cell_type": "code",
   "execution_count": 3,
   "id": "bd76eaab-5a90-4c06-af6d-e77b741d11ed",
   "metadata": {
    "tags": []
   },
   "outputs": [],
   "source": [
    "styles = [\n",
    "    {\"selector\" : \"caption\", \"props\" : \"text-align:center; font-size:16px\"}\n",
    "]"
   ]
  },
  {
   "cell_type": "markdown",
   "id": "cf829b3b-128b-4a79-8557-7f38a335de9e",
   "metadata": {},
   "source": [
    "# groupby : agg\n",
    "- {컬럼명 : 집계함수} 구조의 dictionary를 변수로 주면, 각 컬럼마다 할당된 집계함수로 집계한다.\n",
    "    - 집계함수는 커스텀 함수를 사용해도 됨. 아래 코드처럼."
   ]
  },
  {
   "cell_type": "code",
   "execution_count": 4,
   "id": "05f8ec57-5402-45ca-ae25-b11ce32c9fae",
   "metadata": {},
   "outputs": [
    {
     "data": {
      "text/html": [
       "<div>\n",
       "<style scoped>\n",
       "    .dataframe tbody tr th:only-of-type {\n",
       "        vertical-align: middle;\n",
       "    }\n",
       "\n",
       "    .dataframe tbody tr th {\n",
       "        vertical-align: top;\n",
       "    }\n",
       "\n",
       "    .dataframe thead th {\n",
       "        text-align: right;\n",
       "    }\n",
       "</style>\n",
       "<table border=\"1\" class=\"dataframe\">\n",
       "  <thead>\n",
       "    <tr style=\"text-align: right;\">\n",
       "      <th></th>\n",
       "      <th></th>\n",
       "      <th>price</th>\n",
       "      <th>quantity</th>\n",
       "    </tr>\n",
       "    <tr>\n",
       "      <th>month</th>\n",
       "      <th>fruits</th>\n",
       "      <th></th>\n",
       "      <th></th>\n",
       "    </tr>\n",
       "  </thead>\n",
       "  <tbody>\n",
       "    <tr>\n",
       "      <th rowspan=\"3\" valign=\"top\">10월</th>\n",
       "      <th>apple</th>\n",
       "      <td>10.000000</td>\n",
       "      <td>1</td>\n",
       "    </tr>\n",
       "    <tr>\n",
       "      <th>banana</th>\n",
       "      <td>16.583124</td>\n",
       "      <td>7</td>\n",
       "    </tr>\n",
       "    <tr>\n",
       "      <th>orange</th>\n",
       "      <td>14.142136</td>\n",
       "      <td>2</td>\n",
       "    </tr>\n",
       "    <tr>\n",
       "      <th>11월</th>\n",
       "      <th>apple</th>\n",
       "      <td>12.247449</td>\n",
       "      <td>5</td>\n",
       "    </tr>\n",
       "    <tr>\n",
       "      <th rowspan=\"2\" valign=\"top\">12월</th>\n",
       "      <th>apple</th>\n",
       "      <td>14.142136</td>\n",
       "      <td>6</td>\n",
       "    </tr>\n",
       "    <tr>\n",
       "      <th>banana</th>\n",
       "      <td>20.000000</td>\n",
       "      <td>7</td>\n",
       "    </tr>\n",
       "  </tbody>\n",
       "</table>\n",
       "</div>"
      ],
      "text/plain": [
       "                  price  quantity\n",
       "month fruits                     \n",
       "10월   apple   10.000000         1\n",
       "      banana  16.583124         7\n",
       "      orange  14.142136         2\n",
       "11월   apple   12.247449         5\n",
       "12월   apple   14.142136         6\n",
       "      banana  20.000000         7"
      ]
     },
     "execution_count": 4,
     "metadata": {},
     "output_type": "execute_result"
    }
   ],
   "source": [
    "df = pd.DataFrame({\n",
    "    'month': ['10월', '10월', '10월', '10월', '11월', '12월', '12월'],\n",
    "    'fruits': ['apple', 'orange', 'banana', 'banana', 'apple', 'apple', 'banana'],\n",
    "    'price': [100, 200, 250, 300, 150, 200, 400],\n",
    "    'quantity': [1, 2, 3, 4, 5, 6, 7]\n",
    "})\n",
    "\n",
    "def mean_and_sqrt(x): # 이런 묘한 출력값이 필요한 상황이 있다고 치자.\n",
    "        return np.sqrt(np.mean(x))\n",
    "    \n",
    "df.groupby(by=['month','fruits']).agg({'price':mean_and_sqrt, 'quantity':np.sum})"
   ]
  },
  {
   "cell_type": "markdown",
   "id": "d7f666d4-0348-470b-b2d5-1536cb7a0ea7",
   "metadata": {},
   "source": [
    "- 데이터 집계 방식 중, 가장 범용성이 좋고, 함수화하기도 편한 방식이었다."
   ]
  },
  {
   "cell_type": "markdown",
   "id": "644f0fe9-9d70-43ea-9c1f-dc8e144f1a46",
   "metadata": {},
   "source": [
    "- 실제로 사용했던 예시"
   ]
  },
  {
   "cell_type": "code",
   "execution_count": null,
   "id": "344840a3-49ae-4d48-9f6a-5e4f839c070a",
   "metadata": {},
   "outputs": [],
   "source": [
    "agg_dict = {key:np.sum for key in target_column} # 전부 집계함수 sum으로 세팅\n",
    "agg_dict['accountId'] = 'count' # accountId 수만 count로 세팅. accountId 수를 센다.\n",
    "\n",
    "ready_for_stacked = for_stackbar.groupby(by=['log_cate']).agg(agg_dict) # 집계 적용"
   ]
  },
  {
   "cell_type": "markdown",
   "id": "08759138-b08a-4ceb-b7cd-3dc9fa168ec1",
   "metadata": {},
   "source": [
    "## by에 아무 컬럼도 할당 안 하고 싶으면 어떻게 해야 할까? (전체총합)"
   ]
  },
  {
   "cell_type": "code",
   "execution_count": 6,
   "id": "8f9f9f63-1c12-44e4-861b-9f7084483a57",
   "metadata": {
    "tags": []
   },
   "outputs": [
    {
     "data": {
      "text/html": [
       "<div>\n",
       "<style scoped>\n",
       "    .dataframe tbody tr th:only-of-type {\n",
       "        vertical-align: middle;\n",
       "    }\n",
       "\n",
       "    .dataframe tbody tr th {\n",
       "        vertical-align: top;\n",
       "    }\n",
       "\n",
       "    .dataframe thead th {\n",
       "        text-align: right;\n",
       "    }\n",
       "</style>\n",
       "<table border=\"1\" class=\"dataframe\">\n",
       "  <thead>\n",
       "    <tr style=\"text-align: right;\">\n",
       "      <th></th>\n",
       "      <th>quantity</th>\n",
       "    </tr>\n",
       "  </thead>\n",
       "  <tbody>\n",
       "    <tr>\n",
       "      <th>total</th>\n",
       "      <td>28</td>\n",
       "    </tr>\n",
       "  </tbody>\n",
       "</table>\n",
       "</div>"
      ],
      "text/plain": [
       "       quantity\n",
       "total        28"
      ]
     },
     "execution_count": 6,
     "metadata": {},
     "output_type": "execute_result"
    }
   ],
   "source": [
    "df.groupby(lambda x: 'total').agg({'quantity':'sum'})"
   ]
  },
  {
   "cell_type": "markdown",
   "id": "84677921-5d18-45f3-b659-39ed6365bd6d",
   "metadata": {},
   "source": [
    "## 그룹 별로 랜덤 샘플 추출하기\n",
    "`DataFrameGroupBy.sample(n=None, frac=None, replace=False, weights=None, random_state=None)[source]`\n",
    "- n : int, optional. 각 그룹 별로 몇 개씩 뽑을지. frac과 동시에 사용할 수 없음. replace가 True가 아니라면, 가장 작은 그룹의 크기보다 클 수 없음.\n",
    "- frac : float, optional. 각 그룹 별로 추출할 비율. 0 ~ 1 사이의 값을 넣는다.\n",
    "- replace : bool, default False. 같은 행을 다시 뽑을 수 있는지. True or False\n",
    "- weights : list-like, optional. 가중치. 기본값 None이면 확률 가중은 모두 같다. 대상 Dataframe의 길이와 같은 길이의 list-like 객체를 할당하면, 각 그룹을 정규화 한 후 샘플링 확률로 사용한다. 각 값들은 음수이면 안 되며, 각 그룹마다 최소 하나의 양수가 있어야 한다.\n",
    "- random_state : int, array-like, BitGenerator, np.random.RandomState, np.random.Generator, optional. int, 배열형 또는 BitGenerator인 경우 난수 생성용 시드로 쓴다. np.random.RandomState 또는 np.random.Generator인 경우, 그대로 사용한다."
   ]
  },
  {
   "cell_type": "code",
   "execution_count": 7,
   "id": "3ef74c89-2683-43bd-98e8-7d4161c62edb",
   "metadata": {
    "tags": []
   },
   "outputs": [
    {
     "data": {
      "text/html": [
       "<div>\n",
       "<style scoped>\n",
       "    .dataframe tbody tr th:only-of-type {\n",
       "        vertical-align: middle;\n",
       "    }\n",
       "\n",
       "    .dataframe tbody tr th {\n",
       "        vertical-align: top;\n",
       "    }\n",
       "\n",
       "    .dataframe thead th {\n",
       "        text-align: right;\n",
       "    }\n",
       "</style>\n",
       "<table border=\"1\" class=\"dataframe\">\n",
       "  <thead>\n",
       "    <tr style=\"text-align: right;\">\n",
       "      <th></th>\n",
       "      <th>a</th>\n",
       "      <th>b</th>\n",
       "    </tr>\n",
       "  </thead>\n",
       "  <tbody>\n",
       "    <tr>\n",
       "      <th>0</th>\n",
       "      <td>red</td>\n",
       "      <td>0</td>\n",
       "    </tr>\n",
       "    <tr>\n",
       "      <th>1</th>\n",
       "      <td>red</td>\n",
       "      <td>1</td>\n",
       "    </tr>\n",
       "    <tr>\n",
       "      <th>2</th>\n",
       "      <td>blue</td>\n",
       "      <td>2</td>\n",
       "    </tr>\n",
       "    <tr>\n",
       "      <th>3</th>\n",
       "      <td>blue</td>\n",
       "      <td>3</td>\n",
       "    </tr>\n",
       "    <tr>\n",
       "      <th>4</th>\n",
       "      <td>black</td>\n",
       "      <td>4</td>\n",
       "    </tr>\n",
       "    <tr>\n",
       "      <th>5</th>\n",
       "      <td>black</td>\n",
       "      <td>5</td>\n",
       "    </tr>\n",
       "  </tbody>\n",
       "</table>\n",
       "</div>"
      ],
      "text/plain": [
       "       a  b\n",
       "0    red  0\n",
       "1    red  1\n",
       "2   blue  2\n",
       "3   blue  3\n",
       "4  black  4\n",
       "5  black  5"
      ]
     },
     "execution_count": 7,
     "metadata": {},
     "output_type": "execute_result"
    }
   ],
   "source": [
    "df_sample = pd.DataFrame({\"a\": [\"red\"] * 2 + [\"blue\"] * 2 + [\"black\"] * 2, \"b\": range(6)})\n",
    "df_sample"
   ]
  },
  {
   "cell_type": "markdown",
   "id": "ca711563-7ced-4438-9e65-e95f0eda3823",
   "metadata": {},
   "source": [
    "## 같은 비율로 추출"
   ]
  },
  {
   "cell_type": "code",
   "execution_count": 8,
   "id": "d8af5c47-c108-4be1-b08d-7741ca06e2a3",
   "metadata": {
    "tags": []
   },
   "outputs": [
    {
     "data": {
      "text/html": [
       "<div>\n",
       "<style scoped>\n",
       "    .dataframe tbody tr th:only-of-type {\n",
       "        vertical-align: middle;\n",
       "    }\n",
       "\n",
       "    .dataframe tbody tr th {\n",
       "        vertical-align: top;\n",
       "    }\n",
       "\n",
       "    .dataframe thead th {\n",
       "        text-align: right;\n",
       "    }\n",
       "</style>\n",
       "<table border=\"1\" class=\"dataframe\">\n",
       "  <thead>\n",
       "    <tr style=\"text-align: right;\">\n",
       "      <th></th>\n",
       "      <th>a</th>\n",
       "      <th>b</th>\n",
       "    </tr>\n",
       "  </thead>\n",
       "  <tbody>\n",
       "    <tr>\n",
       "      <th>5</th>\n",
       "      <td>black</td>\n",
       "      <td>5</td>\n",
       "    </tr>\n",
       "    <tr>\n",
       "      <th>2</th>\n",
       "      <td>blue</td>\n",
       "      <td>2</td>\n",
       "    </tr>\n",
       "    <tr>\n",
       "      <th>1</th>\n",
       "      <td>red</td>\n",
       "      <td>1</td>\n",
       "    </tr>\n",
       "  </tbody>\n",
       "</table>\n",
       "</div>"
      ],
      "text/plain": [
       "       a  b\n",
       "5  black  5\n",
       "2   blue  2\n",
       "1    red  1"
      ]
     },
     "execution_count": 8,
     "metadata": {},
     "output_type": "execute_result"
    }
   ],
   "source": [
    "df_sample.groupby(\"a\").sample(frac=0.5, random_state=42)"
   ]
  },
  {
   "cell_type": "markdown",
   "id": "c1796fa1-6dbc-4e90-a831-4adf6a28bf19",
   "metadata": {},
   "source": [
    "## 같은 수를 추출"
   ]
  },
  {
   "cell_type": "code",
   "execution_count": 9,
   "id": "02c39092-c7a4-44c9-abb0-c1afee952103",
   "metadata": {
    "tags": []
   },
   "outputs": [
    {
     "data": {
      "text/html": [
       "<div>\n",
       "<style scoped>\n",
       "    .dataframe tbody tr th:only-of-type {\n",
       "        vertical-align: middle;\n",
       "    }\n",
       "\n",
       "    .dataframe tbody tr th {\n",
       "        vertical-align: top;\n",
       "    }\n",
       "\n",
       "    .dataframe thead th {\n",
       "        text-align: right;\n",
       "    }\n",
       "</style>\n",
       "<table border=\"1\" class=\"dataframe\">\n",
       "  <thead>\n",
       "    <tr style=\"text-align: right;\">\n",
       "      <th></th>\n",
       "      <th>a</th>\n",
       "      <th>b</th>\n",
       "    </tr>\n",
       "  </thead>\n",
       "  <tbody>\n",
       "    <tr>\n",
       "      <th>4</th>\n",
       "      <td>black</td>\n",
       "      <td>4</td>\n",
       "    </tr>\n",
       "    <tr>\n",
       "      <th>2</th>\n",
       "      <td>blue</td>\n",
       "      <td>2</td>\n",
       "    </tr>\n",
       "    <tr>\n",
       "      <th>1</th>\n",
       "      <td>red</td>\n",
       "      <td>1</td>\n",
       "    </tr>\n",
       "  </tbody>\n",
       "</table>\n",
       "</div>"
      ],
      "text/plain": [
       "       a  b\n",
       "4  black  4\n",
       "2   blue  2\n",
       "1    red  1"
      ]
     },
     "execution_count": 9,
     "metadata": {},
     "output_type": "execute_result"
    }
   ],
   "source": [
    "df_sample.groupby(\"a\").sample(n=1, random_state=1)"
   ]
  },
  {
   "cell_type": "markdown",
   "id": "ef0f2cf0-c57c-444c-b1cb-f2df828a86da",
   "metadata": {},
   "source": [
    "## 가중치 사용"
   ]
  },
  {
   "cell_type": "code",
   "execution_count": 10,
   "id": "8512d92c-49c5-4139-9471-e58c44a7de34",
   "metadata": {
    "tags": []
   },
   "outputs": [
    {
     "data": {
      "text/html": [
       "<div>\n",
       "<style scoped>\n",
       "    .dataframe tbody tr th:only-of-type {\n",
       "        vertical-align: middle;\n",
       "    }\n",
       "\n",
       "    .dataframe tbody tr th {\n",
       "        vertical-align: top;\n",
       "    }\n",
       "\n",
       "    .dataframe thead th {\n",
       "        text-align: right;\n",
       "    }\n",
       "</style>\n",
       "<table border=\"1\" class=\"dataframe\">\n",
       "  <thead>\n",
       "    <tr style=\"text-align: right;\">\n",
       "      <th></th>\n",
       "      <th>a</th>\n",
       "      <th>b</th>\n",
       "    </tr>\n",
       "  </thead>\n",
       "  <tbody>\n",
       "    <tr>\n",
       "      <th>5</th>\n",
       "      <td>black</td>\n",
       "      <td>5</td>\n",
       "    </tr>\n",
       "    <tr>\n",
       "      <th>2</th>\n",
       "      <td>blue</td>\n",
       "      <td>2</td>\n",
       "    </tr>\n",
       "    <tr>\n",
       "      <th>1</th>\n",
       "      <td>red</td>\n",
       "      <td>1</td>\n",
       "    </tr>\n",
       "  </tbody>\n",
       "</table>\n",
       "</div>"
      ],
      "text/plain": [
       "       a  b\n",
       "5  black  5\n",
       "2   blue  2\n",
       "1    red  1"
      ]
     },
     "execution_count": 10,
     "metadata": {},
     "output_type": "execute_result"
    }
   ],
   "source": [
    "df_sample.groupby(\"a\").sample(\n",
    "    n=1,\n",
    "    weights=[1, 1, 1, 0, 0, 1],\n",
    "    random_state=99,\n",
    ")\n",
    "# black과 blue에서는, 무조건 5와 2가 나오게 된다. 가중치를 그렇게 설정하였기 때문."
   ]
  }
 ],
 "metadata": {
  "kernelspec": {
   "display_name": "Python 3 (ipykernel)",
   "language": "python",
   "name": "python3"
  },
  "language_info": {
   "codemirror_mode": {
    "name": "ipython",
    "version": 3
   },
   "file_extension": ".py",
   "mimetype": "text/x-python",
   "name": "python",
   "nbconvert_exporter": "python",
   "pygments_lexer": "ipython3",
   "version": "3.11.2"
  },
  "widgets": {
   "application/vnd.jupyter.widget-state+json": {
    "state": {},
    "version_major": 2,
    "version_minor": 0
   }
  }
 },
 "nbformat": 4,
 "nbformat_minor": 5
}
