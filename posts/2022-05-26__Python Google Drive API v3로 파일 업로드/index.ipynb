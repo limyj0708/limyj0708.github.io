{
 "cells": [
  {
   "cell_type": "markdown",
   "metadata": {},
   "source": [
    "---\n",
    "jupyter: python3\n",
    "title: Python Google Drive API v3로 파일 업로드\n",
    "toc: true\n",
    "toc-depth: 3\n",
    "toc-expand: true\n",
    "number-sections: true\n",
    "date: 2022-05-26\n",
    "categories: [Python]\n",
    "author: limyj0708\n",
    "comments:\n",
    "  giscus: \n",
    "    repo: limyj0708/blog\n",
    "---"
   ]
  },
  {
   "cell_type": "markdown",
   "metadata": {},
   "source": [
    "### 1. google api 패키지 설치"
   ]
  },
  {
   "cell_type": "code",
   "execution_count": null,
   "metadata": {},
   "outputs": [],
   "source": [
    "!pip3 install --upgrade google-api-python-client google-auth-httplib2 google-auth-oauthlib"
   ]
  },
  {
   "cell_type": "markdown",
   "metadata": {},
   "source": [
    "### 2. Credential 세팅 후 실행\n",
    "1. [https://console.cloud.google.com/](https://console.cloud.google.com/) 접속\n",
    "2. 원하는 프로젝트 선택\n",
    "3. API & Services\n",
    "   1. Enabled APIs & Services에서 Google Drive API 활성화\n",
    "   2. Credentials\n",
    "      1. Create Credentials -> OAuth client ID 생성\n",
    "         - service account를 사용하고 싶었으나, 대상 폴더가 회사 조직 내 계정이 아니면 공유가 되지 않는 폴더여서 service account 사용이 불가능\n",
    "         - 가능한 상황이면, service account를 대상 폴더의 편집자로 추가하는 편이, 더 보안상 좋다.\n",
    "      2. Download OAuth Client\n",
    "         - clinet-secret JSON 파일이 받아진다.\n",
    "4. [https://developers.google.com/drive/api/quickstart/python](https://developers.google.com/drive/api/quickstart/python)\n",
    "   1. quickstart 스크립트를 적절하게 바꾸어서 실행한다.\n",
    "   2. 최초로 실행하면 로그인 과정 후에 token.json이 생성되고, 이후에는 token.json을 읽어서 실행된다.\n",
    "   3. 아래 스크립트는 xlsx 파일 하나를 원하는 폴더에 업로드 하는 스크립트이다."
   ]
  },
  {
   "cell_type": "code",
   "execution_count": null,
   "metadata": {},
   "outputs": [],
   "source": [
    "import os.path\n",
    "\n",
    "from google.auth.transport.requests import Request\n",
    "from google.oauth2.credentials import Credentials\n",
    "from google_auth_oauthlib.flow import InstalledAppFlow\n",
    "from googleapiclient.discovery import build\n",
    "from googleapiclient.errors import HttpError\n",
    "\n",
    "# If modifying these scopes, delete the file token.json.\n",
    "# \n",
    "SCOPES = ['https://www.googleapis.com/auth/drive.file']\n",
    "\n",
    "\n",
    "def main():\n",
    "    \"\"\"Shows basic usage of the Drive v3 API.\n",
    "    Prints the names and ids of the first 10 files the user has access to.\n",
    "    \"\"\"\n",
    "    creds = None\n",
    "    # The file token.json stores the user's access and refresh tokens, and is\n",
    "    # created automatically when the authorization flow completes for the first\n",
    "    # time.\n",
    "    if os.path.exists('token.json'):\n",
    "        creds = Credentials.from_authorized_user_file('token.json', SCOPES)\n",
    "    # If there are no (valid) credentials available, let the user log in.\n",
    "    if not creds or not creds.valid:\n",
    "        if creds and creds.expired and creds.refresh_token:\n",
    "            creds.refresh(Request())\n",
    "        else:\n",
    "            flow = InstalledAppFlow.from_client_secrets_file('Download OAuth Clinet에서 받은 client-secret JSON 파일', SCOPES)\n",
    "            creds = flow.run_local_server(port=0)\n",
    "        # Save the credentials for the next run\n",
    "        with open('token.json', 'w') as token:\n",
    "            token.write(creds.to_json())\n",
    "\n",
    "    try:\n",
    "        # 원하는 작업 코드 작성\n",
    "        # 이 경우에는, xlsx 파일 하나를 원하는 폴더에 업로드        \n",
    "        folder_id = '원하는 폴더 ID'\n",
    "        service = build('drive', 'v3', credentials=creds)\n",
    "        file_metadata = {'name': 'quest_main_join_string_name.xlsx','parents': [folder_id]}\n",
    "        media = MediaFileUpload('quest_main_join_string_name.xlsx',\n",
    "                            mimetype=None, resumable=True)\n",
    "        # 파일이 커질 것 같으면 resumable을 켜 주는 것이 좋다.\n",
    "        file = service.files().create(body=file_metadata,media_body=media,fields='id').execute\n",
    "        \n",
    "        except HttpError as error:\n",
    "            # TODO(developer) - Handle errors from drive API.\n",
    "            print(f'An error occurred: {error}')\n",
    "\n",
    "if __name__ == '__main__':\n",
    "    main()"
   ]
  }
 ],
 "metadata": {
  "kernelspec": {
   "display_name": "Python 3 (ipykernel)",
   "language": "python",
   "name": "python3"
  },
  "language_info": {
   "codemirror_mode": {
    "name": "ipython",
    "version": 3
   },
   "file_extension": ".py",
   "mimetype": "text/x-python",
   "name": "python",
   "nbconvert_exporter": "python",
   "pygments_lexer": "ipython3",
   "version": "3.11.2"
  },
  "widgets": {
   "application/vnd.jupyter.widget-state+json": {
    "state": {},
    "version_major": 2,
    "version_minor": 0
   }
  }
 },
 "nbformat": 4,
 "nbformat_minor": 4
}
