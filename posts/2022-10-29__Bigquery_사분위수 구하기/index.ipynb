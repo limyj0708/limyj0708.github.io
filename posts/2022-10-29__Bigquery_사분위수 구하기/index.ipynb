{
 "cells": [
  {
   "cell_type": "markdown",
   "id": "c01dc84e-eec1-402a-b98d-962116f110ed",
   "metadata": {},
   "source": [
    "---\n",
    "jupyter: Python3\n",
    "date: 2022-10-29\n",
    "title: Bigquery_사분위수 구하기\n",
    "toc: true\n",
    "toc-depth: 3\n",
    "toc-expand: true\n",
    "number-sections: true\n",
    "categories: SQL\n",
    "author: limyj0708\n",
    "comments:\n",
    "  giscus: \n",
    "    repo: limyj0708/blog\n",
    "format:\n",
    "    html:\n",
    "        page-layout: full\n",
    "---"
   ]
  },
  {
   "cell_type": "markdown",
   "id": "c5463deb-4395-438d-bc32-ff849249678e",
   "metadata": {},
   "source": [
    "- 사분위수를 Bigquery에서 미리 구해서 시각화하고 싶을 떄가 있다.\n",
    "- 두 가지 방법이 있는데, 아래와 같다."
   ]
  },
  {
   "cell_type": "markdown",
   "id": "b2ff6e38-82e1-4b32-891c-7b46b8f6ad21",
   "metadata": {},
   "source": [
    "## APPROX_QUANTILES\n",
    "- [근사치 집계 함수](https://cloud.google.com/bigquery/docs/reference/standard-sql/approximate_aggregate_functions?hl=ko)\n",
    "  - 근사치 집계 함수는 메모리 사용량과 시간 면에서 확장 가능하지만 정확한 결과가 아닌 근사치 결과를 산출합니다. 이러한 함수는 일반적으로 COUNT(DISTINCT ...)와 같은 정확한 집계 함수보다 적은 메모리를 사용하지만 통계상의 불확실성 또한 존재합니다. 따라서 근사치 집계는 선형 메모리 사용량이 비효율적이거나 데이터가 이미 근사치인 대용량 데이터 스트림에 적합합니다.\n",
    "- 예를 들어, skill_score라는 수치 컬럼의 사분위수를 구한다고 해 보자.\n",
    "    \n",
    "```SQL\n",
    "min(skill_enhance_score_sum) as score_min\n",
    ",APPROX_QUANTILES(skill_enhance_score_sum, 100)[OFFSET(25)] AS q_1 -- 100조각 내서 25번째, Q1\n",
    ",APPROX_QUANTILES(skill_enhance_score_sum, 100)[OFFSET(50)] AS median\n",
    ",APPROX_QUANTILES(skill_enhance_score_sum, 100)[OFFSET(75)] AS q_3\n",
    ",max(skill_enhance_score_sum) as score_max\n",
    "```\n",
    "\n",
    "\n",
    "## PERCENTILE_CONT\n",
    "- [탐색 함수](https://cloud.google.com/bigquery/docs/reference/standard-sql/navigation_functions?hl=ko#last_value)\n",
    "- value_expression의 지정된 백분위수 값을 선형 보간으로 계산합니다.\n",
    "- 예를 들어, skill_score라는 수치 컬럼의 사분위수를 구한다고 해 보자.\n",
    "    \n",
    "```SQL\n",
    "PERCENTILE_CONT(skill_enhance_score_sum, 0) OVER() as score_min\n",
    ",PERCENTILE_CONT(skill_enhance_score_sum, 0.25) OVER() AS q_1\n",
    ",PERCENTILE_CONT(skill_enhance_score_sum, 0.5) OVER() AS median\n",
    ",PERCENTILE_CONT(skill_enhance_score_sum, 0.75) OVER() AS q_3\n",
    ",PERCENTILE_CONT(skill_enhance_score_sum, 1) OVER() as score_max\n",
    "```\n",
    "\n",
    "- OVER 절은 [윈도우 함수 사용법](https://cloud.google.com/bigquery/docs/reference/standard-sql/window-function-calls?hl=ko)을 참고하자.\n",
    "\n",
    "\n",
    "## 데이터에 NULL이 있는 경우에는?\n",
    "  - 각 함수 설명에 NULL이 있는 경우 어떻게 되는지 예시가 나와 있으므로, 참고하여 사용하자.\n",
    "  - [근사치 집계 함수](https://cloud.google.com/bigquery/docs/reference/standard-sql/approximate_aggregate_functions?hl=ko)\n",
    "  - [탐색 함수](https://cloud.google.com/bigquery/docs/reference/standard-sql/navigation_functions?hl=ko#last_value)"
   ]
  }
 ],
 "metadata": {
  "kernelspec": {
   "display_name": "Python 3 (ipykernel)",
   "language": "python",
   "name": "python3"
  },
  "language_info": {
   "codemirror_mode": {
    "name": "ipython",
    "version": 3
   },
   "file_extension": ".py",
   "mimetype": "text/x-python",
   "name": "python",
   "nbconvert_exporter": "python",
   "pygments_lexer": "ipython3",
   "version": "3.11.2"
  },
  "widgets": {
   "application/vnd.jupyter.widget-state+json": {
    "state": {},
    "version_major": 2,
    "version_minor": 0
   }
  }
 },
 "nbformat": 4,
 "nbformat_minor": 5
}
